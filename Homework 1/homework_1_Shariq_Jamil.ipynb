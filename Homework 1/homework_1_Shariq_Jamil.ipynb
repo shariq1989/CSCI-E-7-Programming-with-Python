{
 "cells": [
  {
   "cell_type": "markdown",
   "metadata": {},
   "source": [
    "# Homework 1\n",
    "## Due Sept 7, 2020, 4PM EST"
   ]
  },
  {
   "cell_type": "markdown",
   "metadata": {},
   "source": [
    "<div class=\"alert alert-block alert-info\">\n",
    "\n",
    "* Preliminaries.  You'll need to list your first and last name with each homework assignment.    \n",
    "    Fill in your name in the box below.\n",
    "\n",
    "* Do your work in this notebook.  There are some cells reserved to hold your answers.\n",
    "\n",
    "* Other cells hold \"Unit Tests\" - small bits of code to test your work.  Run those to be sure you are on track   \n",
    "    It will be easier to provide Unit Tests for all problems as we learn more\n",
    "    \n",
    "* When you are ready, clear all results (Cell/All Output/Clear) and then run all cells (Cell/Run All).     \n",
    "    This will run the cells in order, and can help you find any errors you might have missed.\n",
    "    \n",
    "* If you find a problem you cannot fix, run the cells below it by hand.  \n",
    "\n",
    "* Save your version of the notebook and save it again as a pdf file and submit both files to Canvas.     \n",
    "    Be sure that we can see the results of each cell in the PDF.\n",
    "</div>"
   ]
  },
  {
   "cell_type": "code",
   "execution_count": 1,
   "metadata": {},
   "outputs": [],
   "source": [
    "# Fill in your name\n",
    "\n",
    "first_name = 'Shariq'\n",
    "last_name = 'Jamil'\n",
    "\n",
    "assert len(first_name) != 0, \"First name is blank\"\n",
    "assert len(last_name) != 0, \"Last name is blank\""
   ]
  },
  {
   "cell_type": "markdown",
   "metadata": {},
   "source": [
    "## Problem 1 (3 points) \n",
    "\n",
    "In the cell below we define two strings\n",
    "\n",
    "```python\n",
    "a= \"+\"\n",
    "\n",
    "b = \"-\"\n",
    "```\n",
    "\n",
    "Using a and b, write a series of python statements to create the 45-character string below, and assign it to the variable s, using as few operations as possible:\n",
    "\n",
    "```python\n",
    "\"+-+-+-+-+-+-+-+-+-+-+-+-+-+-+-+-+-+-+-+-+-+-+\"\n",
    "```"
   ]
  },
  {
   "cell_type": "code",
   "execution_count": 2,
   "metadata": {},
   "outputs": [],
   "source": [
    "# Do not change this cell\n",
    "\n",
    "a = \"+\"\n",
    "b = \"-\""
   ]
  },
  {
   "cell_type": "markdown",
   "metadata": {},
   "source": [
    "<div class=\"alert alert-block alert-info\">\n",
    "Put your code in the cell below.\n",
    "</div>"
   ]
  },
  {
   "cell_type": "code",
   "execution_count": 3,
   "metadata": {},
   "outputs": [
    {
     "name": "stdout",
     "output_type": "stream",
     "text": [
      "+-+-+-+-+-+-+-+-+-+-+-+-+-+-+-+-+-+-+-+-+-+-+ 45\n"
     ]
    }
   ],
   "source": [
    "s = a + b\n",
    "\n",
    "# The number of times the loop will run\n",
    "num_of_times = 21\n",
    "# Keeps track of where the loop is at\n",
    "counter = 0\n",
    "\n",
    "# Perform operation 21 times\n",
    "while counter < num_of_times:\n",
    "    # Append '+-' to variable s\n",
    "    s += (a + b)\n",
    "    # Increment counter\n",
    "    counter += 1\n",
    "\n",
    "# Append a final '+' to the string\n",
    "s += a\n",
    "\n",
    "print(s, len(s))"
   ]
  },
  {
   "cell_type": "markdown",
   "metadata": {},
   "source": [
    "### Unit Test for Problem 1"
   ]
  },
  {
   "cell_type": "markdown",
   "metadata": {},
   "source": [
    "<div class=\"alert alert-block alert-danger\">\n",
    "Run the cell below to test your value of s.\n",
    "</div>"
   ]
  },
  {
   "cell_type": "code",
   "execution_count": 4,
   "metadata": {},
   "outputs": [
    {
     "name": "stdout",
     "output_type": "stream",
     "text": [
      "Success!\n"
     ]
    }
   ],
   "source": [
    "# This cell will test your string s\n",
    "\n",
    "assert s[:2] == '+-', \"String must start with +-\"\n",
    "assert s[2:] == s[:-2], \"Pattern must repeat\"\n",
    "\n",
    "assert len(s) == 45, \"Wrong length\"\n",
    "\n",
    "print('Success!')"
   ]
  },
  {
   "cell_type": "markdown",
   "metadata": {},
   "source": [
    "## Problem 2 (4 points) \n",
    "\n",
    "In the cell below we define a string called *quotation*.\n",
    "\n",
    "  Write Python expressions to compute each of the values below, and print each in turn.  \n",
    "\n",
    "- The length of the string *quotation*.\n",
    "- The index of the first instance of the word 'country'.  The index of 'Ask' is 0.  \n",
    "- The index of the last instance of the word 'country'.\n",
    "- The number of times 'you' appears in *quotation*, using the string method count()."
   ]
  },
  {
   "cell_type": "markdown",
   "metadata": {},
   "source": [
    "<div class=\"alert alert-block alert-info\">\n",
    "Put your code in the cell below.\n",
    "</div>"
   ]
  },
  {
   "cell_type": "code",
   "execution_count": 5,
   "metadata": {},
   "outputs": [
    {
     "name": "stdout",
     "output_type": "stream",
     "text": [
      "80\n",
      "18\n",
      "72\n",
      "4\n"
     ]
    }
   ],
   "source": [
    "quotation = \"Ask not what your country can do for you – ask what you can do for your country.\"\n",
    "\n",
    "# Place 4 expressions below\n",
    "print(len(quotation))                   # Length\n",
    "print(quotation.index('country'))       # Index of first instance of 'country'\n",
    "print(quotation.rfind('country'))       # Index of last instance of 'country'\n",
    "print(quotation.count('you'))           # Number of times 'you' appears in quotation"
   ]
  },
  {
   "cell_type": "markdown",
   "metadata": {},
   "source": [
    "## Problem 3 (3 points) \n",
    "\n",
    "Write a Python fragment to create a string holding the text below.   \n",
    "\n",
    "     Then he said \"I don't know.\""
   ]
  },
  {
   "cell_type": "markdown",
   "metadata": {},
   "source": [
    "<div class=\"alert alert-block alert-info\">\n",
    "Put your code in the cell below.\n",
    "</div>"
   ]
  },
  {
   "cell_type": "code",
   "execution_count": 6,
   "metadata": {},
   "outputs": [],
   "source": [
    "# Write an expression to initialize the variable s.\n",
    "\n",
    "# Used backslash to escape single quote in the middle of the double quoted substring\n",
    "s = 'Then he said \"I don\\'t know.\"'"
   ]
  },
  {
   "cell_type": "markdown",
   "metadata": {},
   "source": [
    "### Unit Test for Problem 3"
   ]
  },
  {
   "cell_type": "markdown",
   "metadata": {},
   "source": [
    "<div class=\"alert alert-block alert-danger\">\n",
    "Run the cell below to test your value of s.\n",
    "</div>"
   ]
  },
  {
   "cell_type": "code",
   "execution_count": 7,
   "metadata": {},
   "outputs": [
    {
     "name": "stdout",
     "output_type": "stream",
     "text": [
      "28 Then he said \"I don't know.\"\n",
      "Success!\n"
     ]
    }
   ],
   "source": [
    "# print your string\n",
    "print(len(s), s)\n",
    "\n",
    "# Check that it is the right length\n",
    "assert 28 == len(s), \"Wong length\"\n",
    "\n",
    "# Check the contents\n",
    "assert 22 == s.find('know'), \"'Know' should be at index 22\"\n",
    "assert 22 == s.rfind('know'), \"'Know' should be at index 22\"\n",
    "\n",
    "print('Success!')"
   ]
  },
  {
   "cell_type": "markdown",
   "metadata": {},
   "source": [
    "# Problem 4 (2 points) \n",
    "\n",
    "Import the datetime library and write a Python statement that computes and prints the next year.  \n",
    "\n",
    "When we run it next week, it should print 2021. "
   ]
  },
  {
   "cell_type": "markdown",
   "metadata": {},
   "source": [
    "<div class=\"alert alert-block alert-info\">\n",
    "Put your code in the cell below.\n",
    "</div>"
   ]
  },
  {
   "cell_type": "code",
   "execution_count": 8,
   "metadata": {},
   "outputs": [
    {
     "name": "stdout",
     "output_type": "stream",
     "text": [
      "2021\n"
     ]
    }
   ],
   "source": [
    "import datetime\n",
    "\n",
    "# Increment the current year by 1 \n",
    "next_year = datetime.date.today().year + 1 \n",
    "\n",
    "# Print the next year\n",
    "print(next_year)"
   ]
  },
  {
   "cell_type": "markdown",
   "metadata": {},
   "source": [
    "# Problem 5 (3 points) \n",
    "\n",
    "Write a Python expression to exchange the front and back halves of a word.\n",
    "\n",
    "Your fragment should be able to change 'look' to 'oklo' and 'frost' to 'ostfr'.\n",
    "\n",
    "It should change 'Problem' to 'lemProb'"
   ]
  },
  {
   "cell_type": "markdown",
   "metadata": {},
   "source": [
    "<div class=\"alert alert-block alert-info\">\n",
    "Put your code in the cell below.\n",
    "</div>"
   ]
  },
  {
   "cell_type": "code",
   "execution_count": 9,
   "metadata": {},
   "outputs": [],
   "source": [
    "word = 'frost'\n",
    "\n",
    "# find middle of the given word. Using floor division for odd numbered words\n",
    "middle_of_word = len(word) // 2\n",
    "\n",
    "# set first half of the word\n",
    "first_half = word[0:middle_of_word]\n",
    "\n",
    "# set second half of the word\n",
    "second_half = word[middle_of_word:len(word)]\n",
    "\n",
    "flip = second_half+first_half      # Place your expression here."
   ]
  },
  {
   "cell_type": "markdown",
   "metadata": {},
   "source": [
    "### Unit Test for Problem 5"
   ]
  },
  {
   "cell_type": "markdown",
   "metadata": {},
   "source": [
    "<div class=\"alert alert-block alert-danger\">\n",
    "Run the cell below to test your value of flip.\n",
    "    \n",
    "You expression should work flip the front and rear of any word.\n",
    "</div>"
   ]
  },
  {
   "cell_type": "code",
   "execution_count": 10,
   "metadata": {},
   "outputs": [
    {
     "name": "stdout",
     "output_type": "stream",
     "text": [
      "Success!\n"
     ]
    }
   ],
   "source": [
    "assert flip == 'ostfr', \"Didn't flip 'frost' properly\"\n",
    "\n",
    "print('Success!')"
   ]
  },
  {
   "cell_type": "markdown",
   "metadata": {},
   "source": [
    "## Documentation (5 points)"
   ]
  },
  {
   "cell_type": "markdown",
   "metadata": {},
   "source": [
    "<div class=\"alert alert-block alert-info\">\n",
    "Use comments and meaningful variable names to make your Python clear\n",
    "</div>"
   ]
  },
  {
   "cell_type": "markdown",
   "metadata": {},
   "source": [
    "# Post Mortem"
   ]
  },
  {
   "cell_type": "markdown",
   "metadata": {},
   "source": [
    "<div class=\"alert alert-block alert-info\">\n",
    "How long did it take you to solve this problem set?  \n",
    "\n",
    "Did anything confuse you or cause difficulty?\n",
    "</div>"
   ]
  },
  {
   "cell_type": "code",
   "execution_count": 11,
   "metadata": {},
   "outputs": [],
   "source": [
    "# Your thoughts...\n",
    "# It took me about thirty minutes. I was not sure specifically to use to solve each problem so hopefully I am not working too far ahead."
   ]
  }
 ],
 "metadata": {
  "kernelspec": {
   "display_name": "Python 3",
   "language": "python",
   "name": "python3"
  },
  "language_info": {
   "codemirror_mode": {
    "name": "ipython",
    "version": 3
   },
   "file_extension": ".py",
   "mimetype": "text/x-python",
   "name": "python",
   "nbconvert_exporter": "python",
   "pygments_lexer": "ipython3",
   "version": "3.8.3"
  }
 },
 "nbformat": 4,
 "nbformat_minor": 2
}
