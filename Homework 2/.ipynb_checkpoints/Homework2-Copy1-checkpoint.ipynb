{
 "cells": [
  {
   "cell_type": "markdown",
   "metadata": {},
   "source": [
    "# Homework 2"
   ]
  },
  {
   "cell_type": "markdown",
   "metadata": {},
   "source": [
    "## Due Sept 14, 2020, 4PM EST\n",
    "\n",
    "## This assignment is all about functions.  DRY!  (Don't Repeat Yourself)\n",
    "## Get comfortable with this important feature  \n"
   ]
  },
  {
   "cell_type": "code",
   "execution_count": 99,
   "metadata": {},
   "outputs": [],
   "source": [
    "# Fill in your name\n",
    "\n",
    "first_name = 'Shariq'\n",
    "last_name = 'Jamil'\n",
    "\n",
    "assert len(first_name) != 0, \"First name is blank\"\n",
    "assert len(last_name) != 0, \"Last name is blank\""
   ]
  },
  {
   "cell_type": "markdown",
   "metadata": {},
   "source": [
    "## Problem 1: Make HTML elements\n",
    "\n",
    "HTML uses 'tags' to markup webpages.  You can read about them here\n",
    "\n",
    "https://www.geeksforgeeks.org/most-commonly-used-tags-in-html/\n",
    "\n",
    "We aren't ready to pull a webpage apart, but we can start to paste one together.  \n",
    "\n",
    "Write a function make_tag() which takes two strings, 'tag' and 'body', and returns an HTML element.\n",
    "\n",
    "We can use Python's Type Hints to describe the parameters and return value.  \n",
    "\n",
    "```python\n",
    "    def make_element(tag: str, body: str) -> str:\n",
    "```\n",
    "\n",
    "For example, if the tag was 'i' and the body was 'very', you would return the string for putting *very* in italics\n",
    "\n",
    "```python\n",
    "    '<i>very</i>'\n",
    "```"
   ]
  },
  {
   "cell_type": "markdown",
   "metadata": {},
   "source": [
    "<div class=\"alert alert-block alert-info\">\n",
    "Fill in your function definition in the cell below.\n",
    "    \n",
    "You could solve this with string addition, but f-string formatting is more powerful.\n",
    "    \n",
    "Here is one discussion of f-strings formatting:\n",
    "    \n",
    "    https://www.geeksforgeeks.org/formatted-string-literals-f-strings-python/\n",
    "    \n",
    "</div>"
   ]
  },
  {
   "cell_type": "code",
   "execution_count": 100,
   "metadata": {},
   "outputs": [],
   "source": [
    "\"\"\"\n",
    "This function will take in two strings: 'tag' and 'body'\n",
    "It will return 'tag' as an HTML tag with 'body' nested within the tag\n",
    "More info: https://www.geeksforgeeks.org/most-commonly-used-tags-in-html/\n",
    "\"\"\"\n",
    "def make_element(tag: str, body: str) -> str:\n",
    "    # format the opening tag\n",
    "    opening_tag = '<'+tag+'>'\n",
    "    # format the closing tag\n",
    "    closing_tag = '</'+tag+'>'\n",
    "    # return a string with 'body' nested within the two strings created above\n",
    "    return opening_tag + body + closing_tag"
   ]
  },
  {
   "cell_type": "markdown",
   "metadata": {},
   "source": [
    "<div class=\"alert alert-block alert-danger\">\n",
    "Run the cell below to call your function.\n",
    "</div>"
   ]
  },
  {
   "cell_type": "code",
   "execution_count": 101,
   "metadata": {},
   "outputs": [
    {
     "data": {
      "text/plain": [
       "'<i>very</i>'"
      ]
     },
     "execution_count": 101,
     "metadata": {},
     "output_type": "execute_result"
    }
   ],
   "source": [
    "make_element('i', 'very')"
   ]
  },
  {
   "cell_type": "markdown",
   "metadata": {},
   "source": [
    "### Unit tests for make_tags()"
   ]
  },
  {
   "cell_type": "code",
   "execution_count": 102,
   "metadata": {},
   "outputs": [
    {
     "name": "stdout",
     "output_type": "stream",
     "text": [
      "Success!\n"
     ]
    }
   ],
   "source": [
    "def validate_make_tag():\n",
    "    assert make_element('i', 'very') == '<i>very</i>', \"Expected '<i>very</i>'\"\n",
    "    assert make_element('html', 'In production') == '<html>In production</html>', \"Expected '<html>In production</html>'\"\n",
    "    assert make_element('head', 'Tale') == '<head>Tale</head>', \"Expected '<head>Tale</head>'\"\n",
    "    assert make_element('title', 'Heavyweight Champion') == '<title>Heavyweight Champion</title>', \"Expected '<title>Heavyweight Champion</title>'\"\n",
    "\n",
    "    print('Success!')\n",
    "    \n",
    "validate_make_tag()"
   ]
  },
  {
   "cell_type": "markdown",
   "metadata": {},
   "source": [
    "## Problem 2: Sleep In\n",
    "\n",
    "When I am working, I get up at 6AM.  \n",
    "\n",
    "I sleep in on vacation and I sleep in on the weekends.\n",
    "\n",
    "Write a Boolean function which takes two Boolean parameters, weekday, and vacation.\n",
    "\n",
    "```python\n",
    "    def sleep_in(weekday: bool, vacation: bool) -> bool:\n",
    "```\n",
    "\n",
    "You should return **True** if I would sleep in, and **False** if I need to work and get up early.  \n",
    "\n",
    "Hint: *Your function should return a Boolean expression based on the two Booleans, **weekday** and **vacation**.*"
   ]
  },
  {
   "cell_type": "markdown",
   "metadata": {},
   "source": [
    "<div class=\"alert alert-block alert-info\">\n",
    "Fill in your function definition in the cell below.\n",
    "</div>"
   ]
  },
  {
   "cell_type": "code",
   "execution_count": 103,
   "metadata": {},
   "outputs": [],
   "source": [
    "def sleep_in(weekday: str, vacation: str) -> bool:\n",
    "    sleep_in = False\n",
    "    if vacation:\n",
    "        sleep_in = True\n",
    "    if not weekday:\n",
    "        sleep_in = True\n",
    "    return sleep_in"
   ]
  },
  {
   "cell_type": "markdown",
   "metadata": {},
   "source": [
    "### Unit tests for sleep_in()"
   ]
  },
  {
   "cell_type": "markdown",
   "metadata": {},
   "source": [
    "<div class=\"alert alert-block alert-danger\">\n",
    "Run the cell below to call your function.\n",
    "</div>"
   ]
  },
  {
   "cell_type": "code",
   "execution_count": 104,
   "metadata": {},
   "outputs": [
    {
     "name": "stdout",
     "output_type": "stream",
     "text": [
      "Success!\n"
     ]
    }
   ],
   "source": [
    "def validate_sleep_in():\n",
    "    assert sleep_in(True, True), \"I can sleep on Vacation!\"\n",
    "    assert sleep_in(False, True),\"I can sleep on the weekends and on Vacation!\"\n",
    "    assert not sleep_in(True, False), \"I have to get up during the work week!\"\n",
    "    assert sleep_in(False, False), \"I can sleep on the weekends!\"\n",
    "\n",
    "    print('Success!')\n",
    "\n",
    "validate_sleep_in()"
   ]
  },
  {
   "cell_type": "markdown",
   "metadata": {},
   "source": [
    "## Problem 3: Justify yourself!\n",
    "\n",
    "Your goal is to right justify a line of text.  \n",
    "\n",
    "Write a function named right_justify() that takes a string named text as a parameter and returns a string of length 70 that begins with blanks and ends with the string text.  See the example in the comments below.  \n",
    "\n",
    "```python\n",
    "    def right_justify(text: str) -> str:\n",
    "        pass\n",
    "```\n",
    "\n",
    "Hint: Use string concatenation and repetition and the Python function len().  Do not use loops or other ideas we haven't discussed yet."
   ]
  },
  {
   "cell_type": "markdown",
   "metadata": {},
   "source": [
    "<div class=\"alert alert-block alert-info\">\n",
    "Fill in your function definition in the cell below.\n",
    "</div>"
   ]
  },
  {
   "cell_type": "code",
   "execution_count": 105,
   "metadata": {},
   "outputs": [],
   "source": [
    "# right_justify('monty') should return a string of length 70, ending with monty:\n",
    "# returns: '                                                                 monty'\n",
    "def right_justify(text):\n",
    "    # find out how many blanks are needed\n",
    "    blanks_needed = 70 - len(text)\n",
    "    # create a string with the required number of blanks\n",
    "    fill_blanks = (' ')*blanks_needed\n",
    "    # return the string of blanks with the given text appended\n",
    "    return fill_blanks + text"
   ]
  },
  {
   "cell_type": "markdown",
   "metadata": {},
   "source": [
    "### Does it work?\n",
    "\n",
    "Devise three interesting test cases to convince yourself that your function works properly.\n",
    "\n",
    "What strings might make your functions's task difficult? "
   ]
  },
  {
   "cell_type": "markdown",
   "metadata": {},
   "source": [
    "<div class=\"alert alert-block alert-danger\">\n",
    "Run the two cells below to test your function.\n",
    "</div>"
   ]
  },
  {
   "cell_type": "code",
   "execution_count": 106,
   "metadata": {},
   "outputs": [
    {
     "name": "stdout",
     "output_type": "stream",
     "text": [
      "0123456789012345678901234567890123456789012345678901234567890123456789\n",
      "                                                                 monty\n",
      "                                                             one * one\n",
      "                                                               / / ! #\n",
      "                                                              45/75* 9\n"
     ]
    }
   ],
   "source": [
    "# Print a ruler to check your results\n",
    "print('0123456789' * 7)\n",
    "\n",
    "# Test your routine on my example\n",
    "print(right_justify('monty'))\n",
    "\n",
    "# Add your test cases below - replace my strings with more interesting test cases\n",
    "print(right_justify('one * one'))\n",
    "print(right_justify('/ / ! #'))\n",
    "print(right_justify('45/75* 9'))"
   ]
  },
  {
   "cell_type": "markdown",
   "metadata": {},
   "source": [
    "### Unit tests for justify()"
   ]
  },
  {
   "cell_type": "markdown",
   "metadata": {},
   "source": [
    "<div class=\"alert alert-block alert-danger\">\n",
    "Now run the Unit Tests to check your work\n",
    "</div>"
   ]
  },
  {
   "cell_type": "code",
   "execution_count": 107,
   "metadata": {},
   "outputs": [
    {
     "name": "stdout",
     "output_type": "stream",
     "text": [
      "Success!\n"
     ]
    }
   ],
   "source": [
    "def validate_justify(before: str):\n",
    "    after = right_justify(before)\n",
    "    assert len(after) == 70, f\"Wrong length {len(after)} after justifying {before}\"\n",
    "    if (before): \n",
    "        assert before == after[-len(before):], f\"Should find '{before}' on right end\"\n",
    "\n",
    "def validate_suite():\n",
    "    validate_justify(' ')\n",
    "    validate_justify('one')\n",
    "    validate_justify('two')\n",
    "    validate_justify('three')\n",
    "    validate_justify('Monty')\n",
    "    validate_justify('Project Oxygen shocked everyone by concluding that, among the eight...')\n",
    "    validate_justify('')\n",
    "\n",
    "    print('Success!')\n",
    "\n",
    "validate_suite()"
   ]
  },
  {
   "cell_type": "markdown",
   "metadata": {},
   "source": [
    "# Problem 4: Mechanical Metathesis\n",
    "\n",
    "Write a function that confounds two strings in hopes of comic effect by swaping the first two characters of each string.  \n",
    "\n",
    "```python\n",
    "    def metathesis(word1: str, word2: str) -> str:\n",
    "        pass\n",
    "```\n",
    "\n",
    "You may assume that both words are at least two characters long. \n",
    "\n",
    "metathesis('dog', 'cat') should return 'cag dot'.  "
   ]
  },
  {
   "cell_type": "markdown",
   "metadata": {},
   "source": [
    "<div class=\"alert alert-block alert-info\">\n",
    "Fill in your function definition in the cell below.\n",
    "</div>"
   ]
  },
  {
   "cell_type": "code",
   "execution_count": 108,
   "metadata": {},
   "outputs": [],
   "source": [
    "'''\n",
    "This function swaps the first two characters \n",
    "of the given strings\n",
    "'''\n",
    "def metathesis(word1, word2):\n",
    "    # store the first two characters of word1\n",
    "    first_two_w1 = word1[0:2]\n",
    "    # store the first two characters of word2\n",
    "    first_two_w2 = word2[0:2]\n",
    "    # store the rest of word1\n",
    "    rest_w1 = word1[2:]\n",
    "    # store the rest of word2\n",
    "    rest_w2 = word2[2:]\n",
    "    \n",
    "    # return a string with both words with the first two characters \n",
    "    # replaced with those of the other\n",
    "    return first_two_w2 + rest_w1 + ' ' + first_two_w1 + rest_w2"
   ]
  },
  {
   "cell_type": "markdown",
   "metadata": {},
   "source": [
    "<div class=\"alert alert-block alert-danger\">\n",
    "Try your function\n",
    "</div>"
   ]
  },
  {
   "cell_type": "code",
   "execution_count": 109,
   "metadata": {},
   "outputs": [
    {
     "name": "stdout",
     "output_type": "stream",
     "text": [
      "cag dot\n",
      "tut hona\n",
      "brinach spead\n"
     ]
    }
   ],
   "source": [
    "print(metathesis('dog', 'cat'))        # should print 'cag dot'\n",
    "print(metathesis('hot', 'tuna'))       # should print 'tut hona'\n",
    "print(metathesis('spinach', 'bread'))  # should print 'brinach spead'"
   ]
  },
  {
   "cell_type": "markdown",
   "metadata": {},
   "source": [
    "### Unit tests for metathesis"
   ]
  },
  {
   "cell_type": "markdown",
   "metadata": {},
   "source": [
    "<div class=\"alert alert-block alert-danger\">\n",
    "Run the cell below to test your function.\n",
    "</div>"
   ]
  },
  {
   "cell_type": "code",
   "execution_count": 110,
   "metadata": {},
   "outputs": [
    {
     "name": "stdout",
     "output_type": "stream",
     "text": [
      "Success!\n"
     ]
    }
   ],
   "source": [
    "def validate_metathesis():\n",
    "    assert metathesis('dog', 'cat') == 'cag dot', f\"Did not handle 'dog', 'cat'\"\n",
    "    assert metathesis('hot', 'tuna') == 'tut hona', f\"Did not handle 'hot', 'tuna'\"\n",
    "    assert metathesis('to', 'be') == 'be to', f\"Did not handle 'to', 'be'\"\n",
    "    assert metathesis('pizza', 'pie') == 'pizza pie', f\"Did not handle 'pizza', 'pie'\"\n",
    "    assert metathesis('pasta', 'pomodoro') == 'posta pamodoro', f\"Did not handle 'pasta', 'pomodoro'\"\n",
    "    \n",
    "    print('Success!')\n",
    "    \n",
    "validate_metathesis()\n"
   ]
  },
  {
   "cell_type": "markdown",
   "metadata": {},
   "source": [
    "# Problem 5: Boxed in\n",
    "\n",
    "### A) Write a function that draws a 2 x 2 grid like this using what we have learned so far.\n",
    "\n",
    "### *Don't use loops of any kind - we haven't covered them yet.*  \n",
    "\n",
    "\n",
    "```python\n",
    "+-----+-----+\n",
    "|     |     |\n",
    "|     |     |\n",
    "|     |     |\n",
    "+-----+-----+\n",
    "|     |     |\n",
    "|     |     |\n",
    "|     |     |\n",
    "+-----+-----+\n",
    "```\n",
    "\n",
    "### B) Write a function that draws a 4 x 4 grid:\n",
    "\n",
    "```python\n",
    "+-----+-----+-----+-----+\n",
    "|     |     |     |     |\n",
    "|     |     |     |     |\n",
    "|     |     |     |     |\n",
    "+-----+-----+-----+-----+\n",
    "|     |     |     |     |\n",
    "|     |     |     |     |\n",
    "|     |     |     |     |\n",
    "+-----+-----+-----+-----+\n",
    "|     |     |     |     |\n",
    "|     |     |     |     |\n",
    "|     |     |     |     |\n",
    "+-----+-----+-----+-----+\n",
    "|     |     |     |     |\n",
    "|     |     |     |     |\n",
    "|     |     |     |     |\n",
    "+-----+-----+-----+-----+\n",
    "```\n",
    "\n",
    "This  is an exercise in creating reusable components.  It should be done using only the statements and other features we have learned so far.  That is, no loops of any kind should be used.  \n",
    "\n",
    "### Here are two ways to solve this problem.  I prefer mine to Downey's\n",
    "\n",
    "### Hint 1: Downey's approach\n",
    "\n",
    "Downey notes that to print more than one value on a line, you can print a comma-separated sequence of values:\n",
    "\n",
    "```python\n",
    "    print('+', '-')\n",
    "```\n",
    "By default, print advances to the next line, but you can override that behavior and put something else at the end, like this:\n",
    "\n",
    "```python\n",
    "    print('+', end='')\n",
    "    print('-')\n",
    "```\n",
    "\n",
    "The output of these statements is '+-' on the same line, as you can see by running the cell below.  The output from the next print statement would begin on the next line."
   ]
  },
  {
   "cell_type": "code",
   "execution_count": 111,
   "metadata": {},
   "outputs": [
    {
     "name": "stdout",
     "output_type": "stream",
     "text": [
      "+\n",
      "-\n",
      "\n",
      "+-\n"
     ]
    }
   ],
   "source": [
    "# Example for Hint 1 A\n",
    "# Produces two lines\n",
    "print('+')\n",
    "print('-')\n",
    "\n",
    "# Add a blank line to set off the next line\n",
    "print() \n",
    "\n",
    "# Produces one line\n",
    "print('+', end='')\n",
    "print('-')"
   ]
  },
  {
   "cell_type": "markdown",
   "metadata": {},
   "source": [
    "### Hint 2: Alternative approach\n",
    "\n",
    "I find it simpler to assemble each line of the output as a string and assemble a long string and print that rather than printing each piece.  \n",
    "\n",
    "Lines are combined to return one string that holds the whole figure, which the caller can print. \n",
    "\n",
    "Here is an obfuscated example of how this works.  Each call to combine() produces a new line of the figure.  \n",
    "\n",
    "It may be hard to predict the outcome, but I hope the method used to assemble the result is clear.  "
   ]
  },
  {
   "cell_type": "code",
   "execution_count": 112,
   "metadata": {},
   "outputs": [],
   "source": [
    "def combine(s):\n",
    "    return s + s[::-1][1:] + \"\\n\"\n",
    "\n",
    "def kilroy():\n",
    "    a = \"        ||\"\n",
    "    b = \"----ooO-(_\"\n",
    "    c = \"       (o \"\n",
    "\n",
    "    return combine(a) + combine(c) + combine(b)"
   ]
  },
  {
   "cell_type": "markdown",
   "metadata": {},
   "source": [
    "<div class=\"alert alert-block alert-info\">\n",
    "Predict what kilroy() returns before running the cell below.\n",
    "</div>"
   ]
  },
  {
   "cell_type": "code",
   "execution_count": 113,
   "metadata": {},
   "outputs": [
    {
     "name": "stdout",
     "output_type": "stream",
     "text": [
      "        |||        \n",
      "       (o o(       \n",
      "----ooO-(_(-Ooo----\n",
      "\n"
     ]
    }
   ],
   "source": [
    "print(kilroy())"
   ]
  },
  {
   "cell_type": "markdown",
   "metadata": {},
   "source": [
    "### Building Strings\n",
    "\n",
    "We will soon learn a better way to add a series of strings together"
   ]
  },
  {
   "cell_type": "markdown",
   "metadata": {},
   "source": [
    "### Hint 3: Can you write one function that solves both 3A and 3B?"
   ]
  },
  {
   "cell_type": "markdown",
   "metadata": {},
   "source": [
    "## Your Solution:"
   ]
  },
  {
   "cell_type": "markdown",
   "metadata": {},
   "source": [
    "<div class=\"alert alert-block alert-danger\">\n",
    "Fill in your function to print a 2x2 grid in the cell below and call it.\n",
    "    \n",
    "We expect to see the 2x2 box below the cell.\n",
    "</div>"
   ]
  },
  {
   "cell_type": "code",
   "execution_count": 114,
   "metadata": {},
   "outputs": [
    {
     "name": "stdout",
     "output_type": "stream",
     "text": [
      "+-----+-----+\n",
      "|     |     |\n",
      "|     |     |\n",
      "|     |     |\n",
      "+-----+-----+\n",
      "|     |     |\n",
      "|     |     |\n",
      "|     |     |\n",
      "+-----+-----+\n",
      "\n"
     ]
    }
   ],
   "source": [
    "# 5A: Write a function to print a 2x2 grid\n",
    "'''\n",
    "A function that takes in numbers of rows and columns and \n",
    "prints a grid with the corresponding dimensions\n",
    "'''\n",
    "def create_grid(rows = 2, columns = 2):\n",
    "    # store a grid block's border string that is as wide as\n",
    "    # the columns given \n",
    "    divider = (('+-----') * columns) + '+' + \"\\n\"\n",
    "    # store a grid block's body string that is as wide as\n",
    "    # the columns given\n",
    "    lines = (('|     ') * columns + '|' + \"\\n\") * 3\n",
    "    \n",
    "    # print a series of lines sandwiched between dividers based\n",
    "    # on the number of rows given\n",
    "    print((divider + lines) * rows + divider)\n",
    "\n",
    "create_grid()\n",
    "    "
   ]
  },
  {
   "cell_type": "markdown",
   "metadata": {},
   "source": [
    "<div class=\"alert alert-block alert-danger\">\n",
    "Fill in your function to print a 4x4 grid in the cell below and call it.\n",
    "    \n",
    "We expect to see the 4x4 box below the cell.\n",
    "</div>"
   ]
  },
  {
   "cell_type": "code",
   "execution_count": 115,
   "metadata": {},
   "outputs": [
    {
     "name": "stdout",
     "output_type": "stream",
     "text": [
      "+-----+-----+-----+-----+\n",
      "|     |     |     |     |\n",
      "|     |     |     |     |\n",
      "|     |     |     |     |\n",
      "+-----+-----+-----+-----+\n",
      "|     |     |     |     |\n",
      "|     |     |     |     |\n",
      "|     |     |     |     |\n",
      "+-----+-----+-----+-----+\n",
      "|     |     |     |     |\n",
      "|     |     |     |     |\n",
      "|     |     |     |     |\n",
      "+-----+-----+-----+-----+\n",
      "|     |     |     |     |\n",
      "|     |     |     |     |\n",
      "|     |     |     |     |\n",
      "+-----+-----+-----+-----+\n",
      "\n"
     ]
    }
   ],
   "source": [
    "# 5B: Write a function to to print a 4x4 grid\n",
    "'''\n",
    "A function that takes in numbers of rows and columns and \n",
    "prints a grid with the corresponding dimensions\n",
    "'''\n",
    "def create_grid(rows = 4, columns = 4):\n",
    "    # store a grid block's border string that is as wide as\n",
    "    # the columns given \n",
    "    divider = (('+-----') * columns) + '+' + \"\\n\"\n",
    "    # store a grid block's body string that is as wide as\n",
    "    # the columns given\n",
    "    lines = (('|     ') * columns + '|' + \"\\n\") * 3\n",
    "    \n",
    "    # print a series of lines sandwiched between dividers based\n",
    "    # on the number of rows given\n",
    "    print((divider + lines) * rows + divider)\n",
    "\n",
    "create_grid()\n",
    "\n"
   ]
  },
  {
   "cell_type": "markdown",
   "metadata": {},
   "source": [
    "# Problem 6: Show me the way\n",
    "\n",
    "Import the library **sys**, and get the return value of the sys attribute **path**. \n",
    "\n",
    "You can read about the sys library here: https://docs.python.org/3.8/library/sys.html\n",
    "\n",
    "Print your path, the first directory on the path, and the last directory on the path.\n",
    "\n",
    "Different people will see different answers, so there are no Unit Tests\n",
    "\n",
    "Hint: Use the same indexing we use for strings to get first and last elements"
   ]
  },
  {
   "cell_type": "markdown",
   "metadata": {},
   "source": [
    "<div class=\"alert alert-block alert-danger\">\n",
    "What directories does Python search?\n",
    "</div>"
   ]
  },
  {
   "cell_type": "code",
   "execution_count": 116,
   "metadata": {},
   "outputs": [
    {
     "name": "stdout",
     "output_type": "stream",
     "text": [
      "['C:\\\\Users\\\\tress\\\\Documents\\\\Development\\\\Harvard\\\\Python\\\\Homework 2', 'C:\\\\Users\\\\tress\\\\anaconda3\\\\python38.zip', 'C:\\\\Users\\\\tress\\\\anaconda3\\\\DLLs', 'C:\\\\Users\\\\tress\\\\anaconda3\\\\lib', 'C:\\\\Users\\\\tress\\\\anaconda3', '', 'C:\\\\Users\\\\tress\\\\anaconda3\\\\lib\\\\site-packages', 'C:\\\\Users\\\\tress\\\\anaconda3\\\\lib\\\\site-packages\\\\win32', 'C:\\\\Users\\\\tress\\\\anaconda3\\\\lib\\\\site-packages\\\\win32\\\\lib', 'C:\\\\Users\\\\tress\\\\anaconda3\\\\lib\\\\site-packages\\\\Pythonwin', 'C:\\\\Users\\\\tress\\\\anaconda3\\\\lib\\\\site-packages\\\\IPython\\\\extensions', 'C:\\\\Users\\\\tress\\\\.ipython']\n",
      "C:\\Users\\tress\\Documents\\Development\\Harvard\\Python\\Homework 2\n",
      "C:\\Users\\tress\\.ipython\n"
     ]
    }
   ],
   "source": [
    "# Write your solution to problem 6 below.  Import sys and \n",
    "# Print the path, print the first directory, and print the last directory on path\n",
    "import sys\n",
    "# print whole path of modules available to Python\n",
    "print(sys.path)\n",
    "# print the first directory\n",
    "print(sys.path[0])\n",
    "# print the last directory\n",
    "print(sys.path[len(sys.path)-1])"
   ]
  },
  {
   "cell_type": "markdown",
   "metadata": {},
   "source": [
    "# Post mortem"
   ]
  },
  {
   "cell_type": "markdown",
   "metadata": {},
   "source": [
    "<div class=\"alert alert-block alert-info\">\n",
    "How long did it take you to solve this problem set?\n",
    "\n",
    "Did anything confuse you or cause difficulty?\n",
    "</div>"
   ]
  },
  {
   "cell_type": "code",
   "execution_count": 117,
   "metadata": {},
   "outputs": [],
   "source": [
    "# About three hours. Nothing was really confusing but I did have a lot of fun doing this assignment.\n"
   ]
  }
 ],
 "metadata": {
  "kernelspec": {
   "display_name": "Python 3",
   "language": "python",
   "name": "python3"
  },
  "language_info": {
   "codemirror_mode": {
    "name": "ipython",
    "version": 3
   },
   "file_extension": ".py",
   "mimetype": "text/x-python",
   "name": "python",
   "nbconvert_exporter": "python",
   "pygments_lexer": "ipython3",
   "version": "3.8.3"
  }
 },
 "nbformat": 4,
 "nbformat_minor": 1
}
