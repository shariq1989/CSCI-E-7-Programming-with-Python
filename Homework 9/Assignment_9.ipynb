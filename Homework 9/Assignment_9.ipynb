{
 "cells": [
  {
   "cell_type": "markdown",
   "metadata": {},
   "source": [
    "# Homework 9\n",
    "\n",
    "## Due Nov 2nd, 2020, 4PM"
   ]
  },
  {
   "cell_type": "code",
   "execution_count": 166,
   "metadata": {},
   "outputs": [],
   "source": [
    "first_name = \"Shariq\"\n",
    "last_name = \"Jamil\"\n",
    "\n",
    "assert(len(first_name) != 0)\n",
    "assert(len(last_name)  != 0)"
   ]
  },
  {
   "cell_type": "markdown",
   "metadata": {},
   "source": [
    "# 1) Point\n",
    "\n",
    "Modify class Point defined below to provide working versions of __str__() and __eq__().\n",
    "\n",
    "Edit the class so that two Points with the same x and y are the same, and so that points are printed as tuples.\n",
    "\n",
    "## Printing\n",
    "\n",
    "```python\n",
    "one = Point(3, 4)\n",
    "print(one)\n",
    "```\n",
    "### Should produce:\n",
    "```python\n",
    "(3, 4)\n",
    "```\n",
    "\n",
    "## Double Equals\n",
    "\n",
    "```python\n",
    "one = Point(3, 4)\n",
    "two = Point(3, 4)\n",
    "print(one == two)\n",
    "```\n",
    "### Should produce:\n",
    "```python\n",
    "True\n",
    "```"
   ]
  },
  {
   "cell_type": "code",
   "execution_count": 167,
   "metadata": {},
   "outputs": [],
   "source": [
    "class Point(object):\n",
    "    \"\"\"Represents a point in 2-D space.\"\"\"\n",
    "\n",
    "    def __init__(self, x, y):\n",
    "        self.x = x\n",
    "        self.y = y\n",
    "\n",
    "    def __str__(self):\n",
    "        # return x and y as a string in tuple format\n",
    "        return '(' + str(self.x) + ', ' + str(self.y) + ')'\n",
    "    \n",
    "    def __eq__(self, other):\n",
    "        # compare x and y for two points\n",
    "        # return True if they are equal, False if not\n",
    "        return self.x == other.x and self.y == other.y"
   ]
  },
  {
   "cell_type": "markdown",
   "metadata": {},
   "source": [
    "## Unit Test for Point"
   ]
  },
  {
   "cell_type": "code",
   "execution_count": 168,
   "metadata": {},
   "outputs": [
    {
     "name": "stdout",
     "output_type": "stream",
     "text": [
      "Success!\n"
     ]
    }
   ],
   "source": [
    "def test_point():\n",
    "    p = Point(3, 4)\n",
    "    q = Point(3, 4)\n",
    "\n",
    "    assert p.__str__() == '(3, 4)', \"Should yield (3 4)\"\n",
    "    assert p == q, \"Should be equal\"\n",
    "\n",
    "    print('Success!')\n",
    "    \n",
    "test_point()"
   ]
  },
  {
   "cell_type": "markdown",
   "metadata": {},
   "source": [
    "# 2) Collatz sequence\n",
    "\n",
    "The Collatz sequence, also know as the Hailstone sequence, is a sequence of numbers.\n",
    "\n",
    "If the current number is n, the next number is n / 2 if n is even, and 3n + 1 if n is odd. \n",
    "\n",
    "It has not been shown that there isn't a sequence which never repeats.  \n",
    "All known sequences end by repeating 4, 2, 1, 4, 2, 1, ...   \n",
    "\n",
    "Write a generator collatz(n) **that starts at n** and generates the rest of the sequence down to 1.  \n",
    "Your generator should raise a StopIteration exception after yielding 1.  "
   ]
  },
  {
   "cell_type": "code",
   "execution_count": 169,
   "metadata": {},
   "outputs": [],
   "source": [
    "def collatz(n):\n",
    "    # yield starting n\n",
    "    yield n\n",
    "    while True:\n",
    "        # finish processing if n is 1\n",
    "        if n == 1:\n",
    "            return\n",
    "        # if n is odd \n",
    "        if n % 2:\n",
    "            # next number is 3n + 1\n",
    "            n = 3*n+1\n",
    "            yield n\n",
    "        else: \n",
    "            # next number is n/2\n",
    "            n = n//2\n",
    "            yield n"
   ]
  },
  {
   "cell_type": "markdown",
   "metadata": {},
   "source": [
    "## Unit Tests"
   ]
  },
  {
   "cell_type": "code",
   "execution_count": 170,
   "metadata": {},
   "outputs": [
    {
     "name": "stdout",
     "output_type": "stream",
     "text": [
      "Success!\n"
     ]
    }
   ],
   "source": [
    "def test_collatz():\n",
    "    g = collatz(4)\n",
    "    lst = [n for n in g]\n",
    "    assert lst == [4, 2, 1]\n",
    "    \n",
    "    g = collatz(11)\n",
    "    lst = [n for n in g]\n",
    "    assert lst == [11, 34, 17, 52, 26, 13, 40, 20, 10, 5, 16, 8, 4, 2, 1]\n",
    "\n",
    "    g = collatz(29)\n",
    "    lst = [n for n in g]\n",
    "    assert lst == [29, 88, 44, 22, 11, 34, 17, 52, 26, 13, 40, 20, 10, 5, 16, 8, 4, 2, 1]\n",
    "\n",
    "    print('Success!')\n",
    "    \n",
    "test_collatz()"
   ]
  },
  {
   "cell_type": "markdown",
   "metadata": {},
   "source": [
    "# 3) Next Month\n",
    "\n",
    "Write a generator that will return a sequence of month names.  Thus\n",
    "\n",
    "    gen = next_month('October')\n",
    "    \n",
    "creates a generator that generates the strings 'November', 'December', 'January' and so on.  \n",
    "If the caller supplies an illegal month name, your function should raise a ValueError exception with text explaining the problem.  "
   ]
  },
  {
   "cell_type": "code",
   "execution_count": 171,
   "metadata": {},
   "outputs": [],
   "source": [
    "month_names = ['January', 'February', 'March', 'April', 'May', 'June',\n",
    "                'July', 'August', 'September', 'October', 'November', 'December']\n",
    "\n",
    "def next_month(name: str) -> str:\n",
    "    global month_names\n",
    "    \n",
    "    # get index of given month\n",
    "    month_index = month_names.index(name.capitalize()) \n",
    "    # check if exists\n",
    "    if month_index != -1:\n",
    "        while True:\n",
    "            # increment month\n",
    "            month_index += 1\n",
    "            # if at December\n",
    "            if month_index == 12:\n",
    "                # loop back to the beginning\n",
    "                month_index = 0\n",
    "            yield month_names[month_index]\n",
    "    # unrecognized month\n",
    "    else: \n",
    "        raise ValueError(\"Please provide a valid month\")\n",
    "        "
   ]
  },
  {
   "cell_type": "markdown",
   "metadata": {},
   "source": [
    "## Unit Tests"
   ]
  },
  {
   "cell_type": "code",
   "execution_count": 172,
   "metadata": {},
   "outputs": [],
   "source": [
    "def test_months():\n",
    "    gen = next_month('October')\n",
    "    lst = [next(gen) for i in range(15)]\n",
    "    assert(lst == ['November', 'December', 'January', 'February', 'March', 'April', 'May', 'June', 'July', 'August', 'September', 'October', 'November', 'December', 'January'])\n",
    "    \n",
    "    gen = next_month('december')\n",
    "    assert next(gen) == 'January'\n",
    "        \n",
    "test_months()"
   ]
  },
  {
   "cell_type": "markdown",
   "metadata": {},
   "source": [
    "### The following should raise a ValueError with text explaining the problem"
   ]
  },
  {
   "cell_type": "code",
   "execution_count": 173,
   "metadata": {},
   "outputs": [
    {
     "name": "stdout",
     "output_type": "stream",
     "text": [
      "Success!\n"
     ]
    }
   ],
   "source": [
    "try: # This should throw a Value Error\n",
    "    gen = next_month('Thermador')\n",
    "\n",
    "    m = next(gen)\n",
    "\n",
    "    print(1/0)\n",
    "except ValueError:\n",
    "    print('Success!')"
   ]
  },
  {
   "cell_type": "markdown",
   "metadata": {},
   "source": [
    "# 4) Phone Numbers\n",
    "\n",
    "Modify the class below that takes a string and returns an object holding a valid NANP phone number. \n",
    "You will need to fill in the three methods listed, but underfined, below: \\_\\_str\\_\\_(), area_code(), and normalize().   \n",
    "\n",
    "The \"North American Numbering Plan\" (NANP) is a telephone numbering system used by many countries in \n",
    "North America. All NANP-countries share the same international country code: `1`.\n",
    "\n",
    "NANP numbers are ten-digit numbers consisting of a three-digit area code and a seven-digit local number. \n",
    "The first three digits of the local number are the \"exchange code\", \n",
    "and the four-digit number which follows is the \"subscriber number\".\n",
    "\n",
    "The format is usually represented as (NXX)-NXX-XXXX where `N` is any digit from \n",
    "2 through 9 and `X` is any digit from 0 through 9.\n",
    "\n",
    "Your task is to clean up differently formatted telephone numbers by removing \n",
    "punctuation, such as '(', '-', and the like, and removing and the country code (1) if present.  \n",
    "\n",
    "Start by stripping non-digits, and then see if the digits match the pattern.\n",
    "If you are asked to create a phone number that does not meet the pattern above, \n",
    "you should throw a ValueError with a string explaining the problem: \n",
    "too many or too few digits, or the wrong digits.  \n",
    "\n",
    "For example, the strings below \n",
    "\n",
    "+1 (617) 495-4024\n",
    "\n",
    "617-495-4024\n",
    "\n",
    "1 617 495 4024\n",
    "\n",
    "617.495.4024\n",
    "\n",
    "should all produce an object that is printed as (617) 495-4024\n",
    "\n",
    "### ValueErrors\n",
    "\n",
    "Each of the following strings should produce a ValueError exception.  \n",
    "\n",
    "+1 (617) 495-40247 has too many digits\n",
    "\n",
    "(617) 495-402 has too few digits\n",
    "\n",
    "+2 (617) 495-4024 has the wrong country code\n",
    "\n",
    "(017) 495-4024 has an illegal area code\n",
    "\n",
    "(617) 195-4024 has an illegal exchange code"
   ]
  },
  {
   "cell_type": "code",
   "execution_count": 181,
   "metadata": {},
   "outputs": [],
   "source": [
    "class Phone:\n",
    "    \"A Class defining valid Phone Numbers\"\n",
    "    \n",
    "    def __init__(self, raw):\n",
    "        \"Create new instance\"\n",
    "        self.number = self._normalize(raw)\n",
    "\n",
    "    def __str__(self) -> str:\n",
    "        return self.number\n",
    "\n",
    "    def area_code(self) -> str:\n",
    "        \"Return the area code\"\n",
    "        return self.number[1:4]\n",
    "\n",
    "    def _normalize(self, raw: str) -> str:\n",
    "        \"\"\"\"Take string presented and return string with digits\n",
    "            Throws a ValueError Exception if not a NANP number\"\"\"\n",
    "        phone_number = ''\n",
    "        for char in raw:\n",
    "            # remove non-numeric chars            \n",
    "            if char.isdigit():\n",
    "                phone_number += char\n",
    "        if len(phone_number) == 11:\n",
    "            if phone_number[0] == '1':\n",
    "                # remove country code\n",
    "                phone_number = phone_number[1:]\n",
    "            else:\n",
    "                raise ValueError('Invalid phone number: Wrong country code')    \n",
    "        if len(phone_number) > 10:\n",
    "            raise ValueError('Invalid phone number: Too many digits')\n",
    "        elif len(phone_number) < 10:\n",
    "            raise ValueError('Invalid phone number: Too few digits')            \n",
    "        # extract into NANP segments\n",
    "        area_code = phone_number[0:3]\n",
    "        # verify that the first digit of area code is between 2 and 9\n",
    "        if int(area_code[0]) < 2:\n",
    "            raise ValueError('Invalid phone number: Illegal area code')\n",
    "        exchange_code = phone_number[3:6]\n",
    "        # verify that the first digit of exchange code is between 2 and 9\n",
    "        if int(exchange_code[0]) < 2:\n",
    "            raise ValueError('Invalid phone number: Illegal exchange code')\n",
    "        subscriber_number = phone_number[6:10]\n",
    "        # return NXX-NXX-XXX as (NXX) NXX-XXXX \n",
    "        return ('(' + area_code + ') ' + exchange_code + '-' + subscriber_number)"
   ]
  },
  {
   "cell_type": "markdown",
   "metadata": {},
   "source": [
    "## Unit Tests for Phone Number"
   ]
  },
  {
   "cell_type": "code",
   "execution_count": 182,
   "metadata": {},
   "outputs": [
    {
     "name": "stdout",
     "output_type": "stream",
     "text": [
      "Success!\n"
     ]
    }
   ],
   "source": [
    "def test_phone():\n",
    "    p = Phone('+1 (617) 495-4024')\n",
    "    assert(p.__str__() == '(617) 495-4024')\n",
    "\n",
    "    p = Phone('617-495-4024')\n",
    "    assert(p.__str__() == '(617) 495-4024')\n",
    "\n",
    "    p = Phone('1 617 495 4024')\n",
    "    assert(p.__str__() == '(617) 495-4024')\n",
    "\n",
    "    p = Phone('617.495.4024')\n",
    "    assert(p.__str__() == '(617) 495-4024')\n",
    "    assert(p.area_code() == '617')\n",
    "    \n",
    "\n",
    "    p = Phone('+1 (508) 495  4024')\n",
    "    assert(p.__str__() == '(508) 495-4024')\n",
    "\n",
    "    p = Phone('508 - 495 - 4024')\n",
    "    assert(p.__str__() == '(508) 495-4024')\n",
    "\n",
    "    p = Phone('1 508 (495) [4024]')\n",
    "    assert(p.__str__() == '(508) 495-4024')\n",
    "\n",
    "    p = Phone('508!495?4024')\n",
    "    assert(p.__str__() == '(508) 495-4024')\n",
    "    assert(p.area_code() == '508')\n",
    "    \n",
    "    p = Phone('5084950000')\n",
    "    assert(p.__str__() == '(508) 495-0000')\n",
    "    \n",
    "    \n",
    "    print(\"Success!\")\n",
    "    \n",
    "test_phone()"
   ]
  },
  {
   "cell_type": "markdown",
   "metadata": {},
   "source": [
    "## Unit Tests for invalid numbers - each should raise a ValueError with a different string\n",
    "\n",
    "There are 5 different problems below: you should throw Value errors with 5 different explainations"
   ]
  },
  {
   "cell_type": "code",
   "execution_count": 183,
   "metadata": {},
   "outputs": [
    {
     "ename": "ValueError",
     "evalue": "Invalid phone number: Too many digits",
     "output_type": "error",
     "traceback": [
      "\u001b[0;31m---------------------------------------------------------------------------\u001b[0m",
      "\u001b[0;31mValueError\u001b[0m                                Traceback (most recent call last)",
      "\u001b[0;32m<ipython-input-183-db4ce11c1cff>\u001b[0m in \u001b[0;36m<module>\u001b[0;34m\u001b[0m\n\u001b[0;32m----> 1\u001b[0;31m \u001b[0mp\u001b[0m \u001b[0;34m=\u001b[0m \u001b[0mPhone\u001b[0m\u001b[0;34m(\u001b[0m\u001b[0;34m'+1 (617) 495-40247'\u001b[0m\u001b[0;34m)\u001b[0m\u001b[0;34m\u001b[0m\u001b[0;34m\u001b[0m\u001b[0m\n\u001b[0m",
      "\u001b[0;32m<ipython-input-181-e132b87a01ff>\u001b[0m in \u001b[0;36m__init__\u001b[0;34m(self, raw)\u001b[0m\n\u001b[1;32m      4\u001b[0m     \u001b[0;32mdef\u001b[0m \u001b[0m__init__\u001b[0m\u001b[0;34m(\u001b[0m\u001b[0mself\u001b[0m\u001b[0;34m,\u001b[0m \u001b[0mraw\u001b[0m\u001b[0;34m)\u001b[0m\u001b[0;34m:\u001b[0m\u001b[0;34m\u001b[0m\u001b[0;34m\u001b[0m\u001b[0m\n\u001b[1;32m      5\u001b[0m         \u001b[0;34m\"Create new instance\"\u001b[0m\u001b[0;34m\u001b[0m\u001b[0;34m\u001b[0m\u001b[0m\n\u001b[0;32m----> 6\u001b[0;31m         \u001b[0mself\u001b[0m\u001b[0;34m.\u001b[0m\u001b[0mnumber\u001b[0m \u001b[0;34m=\u001b[0m \u001b[0mself\u001b[0m\u001b[0;34m.\u001b[0m\u001b[0m_normalize\u001b[0m\u001b[0;34m(\u001b[0m\u001b[0mraw\u001b[0m\u001b[0;34m)\u001b[0m\u001b[0;34m\u001b[0m\u001b[0;34m\u001b[0m\u001b[0m\n\u001b[0m\u001b[1;32m      7\u001b[0m \u001b[0;34m\u001b[0m\u001b[0m\n\u001b[1;32m      8\u001b[0m     \u001b[0;32mdef\u001b[0m \u001b[0m__str__\u001b[0m\u001b[0;34m(\u001b[0m\u001b[0mself\u001b[0m\u001b[0;34m)\u001b[0m \u001b[0;34m->\u001b[0m \u001b[0mstr\u001b[0m\u001b[0;34m:\u001b[0m\u001b[0;34m\u001b[0m\u001b[0;34m\u001b[0m\u001b[0m\n",
      "\u001b[0;32m<ipython-input-181-e132b87a01ff>\u001b[0m in \u001b[0;36m_normalize\u001b[0;34m(self, raw)\u001b[0m\n\u001b[1;32m     28\u001b[0m                 \u001b[0;32mraise\u001b[0m \u001b[0mValueError\u001b[0m\u001b[0;34m(\u001b[0m\u001b[0;34m'Invalid phone number: Wrong country code'\u001b[0m\u001b[0;34m)\u001b[0m\u001b[0;34m\u001b[0m\u001b[0;34m\u001b[0m\u001b[0m\n\u001b[1;32m     29\u001b[0m         \u001b[0;32mif\u001b[0m \u001b[0mlen\u001b[0m\u001b[0;34m(\u001b[0m\u001b[0mphone_number\u001b[0m\u001b[0;34m)\u001b[0m \u001b[0;34m>\u001b[0m \u001b[0;36m10\u001b[0m\u001b[0;34m:\u001b[0m\u001b[0;34m\u001b[0m\u001b[0;34m\u001b[0m\u001b[0m\n\u001b[0;32m---> 30\u001b[0;31m             \u001b[0;32mraise\u001b[0m \u001b[0mValueError\u001b[0m\u001b[0;34m(\u001b[0m\u001b[0;34m'Invalid phone number: Too many digits'\u001b[0m\u001b[0;34m)\u001b[0m\u001b[0;34m\u001b[0m\u001b[0;34m\u001b[0m\u001b[0m\n\u001b[0m\u001b[1;32m     31\u001b[0m         \u001b[0;32melif\u001b[0m \u001b[0mlen\u001b[0m\u001b[0;34m(\u001b[0m\u001b[0mphone_number\u001b[0m\u001b[0;34m)\u001b[0m \u001b[0;34m<\u001b[0m \u001b[0;36m10\u001b[0m\u001b[0;34m:\u001b[0m\u001b[0;34m\u001b[0m\u001b[0;34m\u001b[0m\u001b[0m\n\u001b[1;32m     32\u001b[0m             \u001b[0;32mraise\u001b[0m \u001b[0mValueError\u001b[0m\u001b[0;34m(\u001b[0m\u001b[0;34m'Invalid phone number: Too few digits'\u001b[0m\u001b[0;34m)\u001b[0m\u001b[0;34m\u001b[0m\u001b[0;34m\u001b[0m\u001b[0m\n",
      "\u001b[0;31mValueError\u001b[0m: Invalid phone number: Too many digits"
     ]
    }
   ],
   "source": [
    "p = Phone('+1 (617) 495-40247')"
   ]
  },
  {
   "cell_type": "code",
   "execution_count": 184,
   "metadata": {},
   "outputs": [
    {
     "ename": "ValueError",
     "evalue": "Invalid phone number: Too few digits",
     "output_type": "error",
     "traceback": [
      "\u001b[0;31m---------------------------------------------------------------------------\u001b[0m",
      "\u001b[0;31mValueError\u001b[0m                                Traceback (most recent call last)",
      "\u001b[0;32m<ipython-input-184-692bc6319a88>\u001b[0m in \u001b[0;36m<module>\u001b[0;34m\u001b[0m\n\u001b[0;32m----> 1\u001b[0;31m \u001b[0mp\u001b[0m \u001b[0;34m=\u001b[0m \u001b[0mPhone\u001b[0m\u001b[0;34m(\u001b[0m\u001b[0;34m'(617) 495-402'\u001b[0m\u001b[0;34m)\u001b[0m\u001b[0;34m\u001b[0m\u001b[0;34m\u001b[0m\u001b[0m\n\u001b[0m",
      "\u001b[0;32m<ipython-input-181-e132b87a01ff>\u001b[0m in \u001b[0;36m__init__\u001b[0;34m(self, raw)\u001b[0m\n\u001b[1;32m      4\u001b[0m     \u001b[0;32mdef\u001b[0m \u001b[0m__init__\u001b[0m\u001b[0;34m(\u001b[0m\u001b[0mself\u001b[0m\u001b[0;34m,\u001b[0m \u001b[0mraw\u001b[0m\u001b[0;34m)\u001b[0m\u001b[0;34m:\u001b[0m\u001b[0;34m\u001b[0m\u001b[0;34m\u001b[0m\u001b[0m\n\u001b[1;32m      5\u001b[0m         \u001b[0;34m\"Create new instance\"\u001b[0m\u001b[0;34m\u001b[0m\u001b[0;34m\u001b[0m\u001b[0m\n\u001b[0;32m----> 6\u001b[0;31m         \u001b[0mself\u001b[0m\u001b[0;34m.\u001b[0m\u001b[0mnumber\u001b[0m \u001b[0;34m=\u001b[0m \u001b[0mself\u001b[0m\u001b[0;34m.\u001b[0m\u001b[0m_normalize\u001b[0m\u001b[0;34m(\u001b[0m\u001b[0mraw\u001b[0m\u001b[0;34m)\u001b[0m\u001b[0;34m\u001b[0m\u001b[0;34m\u001b[0m\u001b[0m\n\u001b[0m\u001b[1;32m      7\u001b[0m \u001b[0;34m\u001b[0m\u001b[0m\n\u001b[1;32m      8\u001b[0m     \u001b[0;32mdef\u001b[0m \u001b[0m__str__\u001b[0m\u001b[0;34m(\u001b[0m\u001b[0mself\u001b[0m\u001b[0;34m)\u001b[0m \u001b[0;34m->\u001b[0m \u001b[0mstr\u001b[0m\u001b[0;34m:\u001b[0m\u001b[0;34m\u001b[0m\u001b[0;34m\u001b[0m\u001b[0m\n",
      "\u001b[0;32m<ipython-input-181-e132b87a01ff>\u001b[0m in \u001b[0;36m_normalize\u001b[0;34m(self, raw)\u001b[0m\n\u001b[1;32m     30\u001b[0m             \u001b[0;32mraise\u001b[0m \u001b[0mValueError\u001b[0m\u001b[0;34m(\u001b[0m\u001b[0;34m'Invalid phone number: Too many digits'\u001b[0m\u001b[0;34m)\u001b[0m\u001b[0;34m\u001b[0m\u001b[0;34m\u001b[0m\u001b[0m\n\u001b[1;32m     31\u001b[0m         \u001b[0;32melif\u001b[0m \u001b[0mlen\u001b[0m\u001b[0;34m(\u001b[0m\u001b[0mphone_number\u001b[0m\u001b[0;34m)\u001b[0m \u001b[0;34m<\u001b[0m \u001b[0;36m10\u001b[0m\u001b[0;34m:\u001b[0m\u001b[0;34m\u001b[0m\u001b[0;34m\u001b[0m\u001b[0m\n\u001b[0;32m---> 32\u001b[0;31m             \u001b[0;32mraise\u001b[0m \u001b[0mValueError\u001b[0m\u001b[0;34m(\u001b[0m\u001b[0;34m'Invalid phone number: Too few digits'\u001b[0m\u001b[0;34m)\u001b[0m\u001b[0;34m\u001b[0m\u001b[0;34m\u001b[0m\u001b[0m\n\u001b[0m\u001b[1;32m     33\u001b[0m         \u001b[0;31m# extract into NANP segments\u001b[0m\u001b[0;34m\u001b[0m\u001b[0;34m\u001b[0m\u001b[0;34m\u001b[0m\u001b[0m\n\u001b[1;32m     34\u001b[0m         \u001b[0marea_code\u001b[0m \u001b[0;34m=\u001b[0m \u001b[0mphone_number\u001b[0m\u001b[0;34m[\u001b[0m\u001b[0;36m0\u001b[0m\u001b[0;34m:\u001b[0m\u001b[0;36m3\u001b[0m\u001b[0;34m]\u001b[0m\u001b[0;34m\u001b[0m\u001b[0;34m\u001b[0m\u001b[0m\n",
      "\u001b[0;31mValueError\u001b[0m: Invalid phone number: Too few digits"
     ]
    }
   ],
   "source": [
    "p = Phone('(617) 495-402')"
   ]
  },
  {
   "cell_type": "code",
   "execution_count": 185,
   "metadata": {},
   "outputs": [
    {
     "ename": "ValueError",
     "evalue": "Invalid phone number: Wrong country code",
     "output_type": "error",
     "traceback": [
      "\u001b[0;31m---------------------------------------------------------------------------\u001b[0m",
      "\u001b[0;31mValueError\u001b[0m                                Traceback (most recent call last)",
      "\u001b[0;32m<ipython-input-185-233260c5c685>\u001b[0m in \u001b[0;36m<module>\u001b[0;34m\u001b[0m\n\u001b[0;32m----> 1\u001b[0;31m \u001b[0mp\u001b[0m \u001b[0;34m=\u001b[0m \u001b[0mPhone\u001b[0m\u001b[0;34m(\u001b[0m\u001b[0;34m'+2 (617) 495-4024'\u001b[0m\u001b[0;34m)\u001b[0m\u001b[0;34m\u001b[0m\u001b[0;34m\u001b[0m\u001b[0m\n\u001b[0m",
      "\u001b[0;32m<ipython-input-181-e132b87a01ff>\u001b[0m in \u001b[0;36m__init__\u001b[0;34m(self, raw)\u001b[0m\n\u001b[1;32m      4\u001b[0m     \u001b[0;32mdef\u001b[0m \u001b[0m__init__\u001b[0m\u001b[0;34m(\u001b[0m\u001b[0mself\u001b[0m\u001b[0;34m,\u001b[0m \u001b[0mraw\u001b[0m\u001b[0;34m)\u001b[0m\u001b[0;34m:\u001b[0m\u001b[0;34m\u001b[0m\u001b[0;34m\u001b[0m\u001b[0m\n\u001b[1;32m      5\u001b[0m         \u001b[0;34m\"Create new instance\"\u001b[0m\u001b[0;34m\u001b[0m\u001b[0;34m\u001b[0m\u001b[0m\n\u001b[0;32m----> 6\u001b[0;31m         \u001b[0mself\u001b[0m\u001b[0;34m.\u001b[0m\u001b[0mnumber\u001b[0m \u001b[0;34m=\u001b[0m \u001b[0mself\u001b[0m\u001b[0;34m.\u001b[0m\u001b[0m_normalize\u001b[0m\u001b[0;34m(\u001b[0m\u001b[0mraw\u001b[0m\u001b[0;34m)\u001b[0m\u001b[0;34m\u001b[0m\u001b[0;34m\u001b[0m\u001b[0m\n\u001b[0m\u001b[1;32m      7\u001b[0m \u001b[0;34m\u001b[0m\u001b[0m\n\u001b[1;32m      8\u001b[0m     \u001b[0;32mdef\u001b[0m \u001b[0m__str__\u001b[0m\u001b[0;34m(\u001b[0m\u001b[0mself\u001b[0m\u001b[0;34m)\u001b[0m \u001b[0;34m->\u001b[0m \u001b[0mstr\u001b[0m\u001b[0;34m:\u001b[0m\u001b[0;34m\u001b[0m\u001b[0;34m\u001b[0m\u001b[0m\n",
      "\u001b[0;32m<ipython-input-181-e132b87a01ff>\u001b[0m in \u001b[0;36m_normalize\u001b[0;34m(self, raw)\u001b[0m\n\u001b[1;32m     26\u001b[0m                 \u001b[0mphone_number\u001b[0m \u001b[0;34m=\u001b[0m \u001b[0mphone_number\u001b[0m\u001b[0;34m[\u001b[0m\u001b[0;36m1\u001b[0m\u001b[0;34m:\u001b[0m\u001b[0;34m]\u001b[0m\u001b[0;34m\u001b[0m\u001b[0;34m\u001b[0m\u001b[0m\n\u001b[1;32m     27\u001b[0m             \u001b[0;32melse\u001b[0m\u001b[0;34m:\u001b[0m\u001b[0;34m\u001b[0m\u001b[0;34m\u001b[0m\u001b[0m\n\u001b[0;32m---> 28\u001b[0;31m                 \u001b[0;32mraise\u001b[0m \u001b[0mValueError\u001b[0m\u001b[0;34m(\u001b[0m\u001b[0;34m'Invalid phone number: Wrong country code'\u001b[0m\u001b[0;34m)\u001b[0m\u001b[0;34m\u001b[0m\u001b[0;34m\u001b[0m\u001b[0m\n\u001b[0m\u001b[1;32m     29\u001b[0m         \u001b[0;32mif\u001b[0m \u001b[0mlen\u001b[0m\u001b[0;34m(\u001b[0m\u001b[0mphone_number\u001b[0m\u001b[0;34m)\u001b[0m \u001b[0;34m>\u001b[0m \u001b[0;36m10\u001b[0m\u001b[0;34m:\u001b[0m\u001b[0;34m\u001b[0m\u001b[0;34m\u001b[0m\u001b[0m\n\u001b[1;32m     30\u001b[0m             \u001b[0;32mraise\u001b[0m \u001b[0mValueError\u001b[0m\u001b[0;34m(\u001b[0m\u001b[0;34m'Invalid phone number: Too many digits'\u001b[0m\u001b[0;34m)\u001b[0m\u001b[0;34m\u001b[0m\u001b[0;34m\u001b[0m\u001b[0m\n",
      "\u001b[0;31mValueError\u001b[0m: Invalid phone number: Wrong country code"
     ]
    }
   ],
   "source": [
    "p = Phone('+2 (617) 495-4024')"
   ]
  },
  {
   "cell_type": "code",
   "execution_count": 186,
   "metadata": {},
   "outputs": [
    {
     "ename": "ValueError",
     "evalue": "Invalid phone number: Illegal area code",
     "output_type": "error",
     "traceback": [
      "\u001b[0;31m---------------------------------------------------------------------------\u001b[0m",
      "\u001b[0;31mValueError\u001b[0m                                Traceback (most recent call last)",
      "\u001b[0;32m<ipython-input-186-225915713b41>\u001b[0m in \u001b[0;36m<module>\u001b[0;34m\u001b[0m\n\u001b[0;32m----> 1\u001b[0;31m \u001b[0mp\u001b[0m \u001b[0;34m=\u001b[0m \u001b[0mPhone\u001b[0m\u001b[0;34m(\u001b[0m\u001b[0;34m'(017) 495-4024'\u001b[0m\u001b[0;34m)\u001b[0m\u001b[0;34m\u001b[0m\u001b[0;34m\u001b[0m\u001b[0m\n\u001b[0m",
      "\u001b[0;32m<ipython-input-181-e132b87a01ff>\u001b[0m in \u001b[0;36m__init__\u001b[0;34m(self, raw)\u001b[0m\n\u001b[1;32m      4\u001b[0m     \u001b[0;32mdef\u001b[0m \u001b[0m__init__\u001b[0m\u001b[0;34m(\u001b[0m\u001b[0mself\u001b[0m\u001b[0;34m,\u001b[0m \u001b[0mraw\u001b[0m\u001b[0;34m)\u001b[0m\u001b[0;34m:\u001b[0m\u001b[0;34m\u001b[0m\u001b[0;34m\u001b[0m\u001b[0m\n\u001b[1;32m      5\u001b[0m         \u001b[0;34m\"Create new instance\"\u001b[0m\u001b[0;34m\u001b[0m\u001b[0;34m\u001b[0m\u001b[0m\n\u001b[0;32m----> 6\u001b[0;31m         \u001b[0mself\u001b[0m\u001b[0;34m.\u001b[0m\u001b[0mnumber\u001b[0m \u001b[0;34m=\u001b[0m \u001b[0mself\u001b[0m\u001b[0;34m.\u001b[0m\u001b[0m_normalize\u001b[0m\u001b[0;34m(\u001b[0m\u001b[0mraw\u001b[0m\u001b[0;34m)\u001b[0m\u001b[0;34m\u001b[0m\u001b[0;34m\u001b[0m\u001b[0m\n\u001b[0m\u001b[1;32m      7\u001b[0m \u001b[0;34m\u001b[0m\u001b[0m\n\u001b[1;32m      8\u001b[0m     \u001b[0;32mdef\u001b[0m \u001b[0m__str__\u001b[0m\u001b[0;34m(\u001b[0m\u001b[0mself\u001b[0m\u001b[0;34m)\u001b[0m \u001b[0;34m->\u001b[0m \u001b[0mstr\u001b[0m\u001b[0;34m:\u001b[0m\u001b[0;34m\u001b[0m\u001b[0;34m\u001b[0m\u001b[0m\n",
      "\u001b[0;32m<ipython-input-181-e132b87a01ff>\u001b[0m in \u001b[0;36m_normalize\u001b[0;34m(self, raw)\u001b[0m\n\u001b[1;32m     35\u001b[0m         \u001b[0;31m# verify that the first digit of area code is between 2 and 9\u001b[0m\u001b[0;34m\u001b[0m\u001b[0;34m\u001b[0m\u001b[0;34m\u001b[0m\u001b[0m\n\u001b[1;32m     36\u001b[0m         \u001b[0;32mif\u001b[0m \u001b[0mint\u001b[0m\u001b[0;34m(\u001b[0m\u001b[0marea_code\u001b[0m\u001b[0;34m[\u001b[0m\u001b[0;36m0\u001b[0m\u001b[0;34m]\u001b[0m\u001b[0;34m)\u001b[0m \u001b[0;34m<\u001b[0m \u001b[0;36m2\u001b[0m\u001b[0;34m:\u001b[0m\u001b[0;34m\u001b[0m\u001b[0;34m\u001b[0m\u001b[0m\n\u001b[0;32m---> 37\u001b[0;31m             \u001b[0;32mraise\u001b[0m \u001b[0mValueError\u001b[0m\u001b[0;34m(\u001b[0m\u001b[0;34m'Invalid phone number: Illegal area code'\u001b[0m\u001b[0;34m)\u001b[0m\u001b[0;34m\u001b[0m\u001b[0;34m\u001b[0m\u001b[0m\n\u001b[0m\u001b[1;32m     38\u001b[0m         \u001b[0mexchange_code\u001b[0m \u001b[0;34m=\u001b[0m \u001b[0mphone_number\u001b[0m\u001b[0;34m[\u001b[0m\u001b[0;36m3\u001b[0m\u001b[0;34m:\u001b[0m\u001b[0;36m6\u001b[0m\u001b[0;34m]\u001b[0m\u001b[0;34m\u001b[0m\u001b[0;34m\u001b[0m\u001b[0m\n\u001b[1;32m     39\u001b[0m         \u001b[0;31m# verify that the first digit of exchange code is between 2 and 9\u001b[0m\u001b[0;34m\u001b[0m\u001b[0;34m\u001b[0m\u001b[0;34m\u001b[0m\u001b[0m\n",
      "\u001b[0;31mValueError\u001b[0m: Invalid phone number: Illegal area code"
     ]
    }
   ],
   "source": [
    "p = Phone('(017) 495-4024')"
   ]
  },
  {
   "cell_type": "code",
   "execution_count": 187,
   "metadata": {},
   "outputs": [
    {
     "ename": "ValueError",
     "evalue": "Invalid phone number: Illegal exchange code",
     "output_type": "error",
     "traceback": [
      "\u001b[0;31m---------------------------------------------------------------------------\u001b[0m",
      "\u001b[0;31mValueError\u001b[0m                                Traceback (most recent call last)",
      "\u001b[0;32m<ipython-input-187-895781462c15>\u001b[0m in \u001b[0;36m<module>\u001b[0;34m\u001b[0m\n\u001b[0;32m----> 1\u001b[0;31m \u001b[0mp\u001b[0m \u001b[0;34m=\u001b[0m \u001b[0mPhone\u001b[0m\u001b[0;34m(\u001b[0m\u001b[0;34m'(617) 195-4024'\u001b[0m\u001b[0;34m)\u001b[0m\u001b[0;34m\u001b[0m\u001b[0;34m\u001b[0m\u001b[0m\n\u001b[0m",
      "\u001b[0;32m<ipython-input-181-e132b87a01ff>\u001b[0m in \u001b[0;36m__init__\u001b[0;34m(self, raw)\u001b[0m\n\u001b[1;32m      4\u001b[0m     \u001b[0;32mdef\u001b[0m \u001b[0m__init__\u001b[0m\u001b[0;34m(\u001b[0m\u001b[0mself\u001b[0m\u001b[0;34m,\u001b[0m \u001b[0mraw\u001b[0m\u001b[0;34m)\u001b[0m\u001b[0;34m:\u001b[0m\u001b[0;34m\u001b[0m\u001b[0;34m\u001b[0m\u001b[0m\n\u001b[1;32m      5\u001b[0m         \u001b[0;34m\"Create new instance\"\u001b[0m\u001b[0;34m\u001b[0m\u001b[0;34m\u001b[0m\u001b[0m\n\u001b[0;32m----> 6\u001b[0;31m         \u001b[0mself\u001b[0m\u001b[0;34m.\u001b[0m\u001b[0mnumber\u001b[0m \u001b[0;34m=\u001b[0m \u001b[0mself\u001b[0m\u001b[0;34m.\u001b[0m\u001b[0m_normalize\u001b[0m\u001b[0;34m(\u001b[0m\u001b[0mraw\u001b[0m\u001b[0;34m)\u001b[0m\u001b[0;34m\u001b[0m\u001b[0;34m\u001b[0m\u001b[0m\n\u001b[0m\u001b[1;32m      7\u001b[0m \u001b[0;34m\u001b[0m\u001b[0m\n\u001b[1;32m      8\u001b[0m     \u001b[0;32mdef\u001b[0m \u001b[0m__str__\u001b[0m\u001b[0;34m(\u001b[0m\u001b[0mself\u001b[0m\u001b[0;34m)\u001b[0m \u001b[0;34m->\u001b[0m \u001b[0mstr\u001b[0m\u001b[0;34m:\u001b[0m\u001b[0;34m\u001b[0m\u001b[0;34m\u001b[0m\u001b[0m\n",
      "\u001b[0;32m<ipython-input-181-e132b87a01ff>\u001b[0m in \u001b[0;36m_normalize\u001b[0;34m(self, raw)\u001b[0m\n\u001b[1;32m     39\u001b[0m         \u001b[0;31m# verify that the first digit of exchange code is between 2 and 9\u001b[0m\u001b[0;34m\u001b[0m\u001b[0;34m\u001b[0m\u001b[0;34m\u001b[0m\u001b[0m\n\u001b[1;32m     40\u001b[0m         \u001b[0;32mif\u001b[0m \u001b[0mint\u001b[0m\u001b[0;34m(\u001b[0m\u001b[0mexchange_code\u001b[0m\u001b[0;34m[\u001b[0m\u001b[0;36m0\u001b[0m\u001b[0;34m]\u001b[0m\u001b[0;34m)\u001b[0m \u001b[0;34m<\u001b[0m \u001b[0;36m2\u001b[0m\u001b[0;34m:\u001b[0m\u001b[0;34m\u001b[0m\u001b[0;34m\u001b[0m\u001b[0m\n\u001b[0;32m---> 41\u001b[0;31m             \u001b[0;32mraise\u001b[0m \u001b[0mValueError\u001b[0m\u001b[0;34m(\u001b[0m\u001b[0;34m'Invalid phone number: Illegal exchange code'\u001b[0m\u001b[0;34m)\u001b[0m\u001b[0;34m\u001b[0m\u001b[0;34m\u001b[0m\u001b[0m\n\u001b[0m\u001b[1;32m     42\u001b[0m         \u001b[0msubscriber_number\u001b[0m \u001b[0;34m=\u001b[0m \u001b[0mphone_number\u001b[0m\u001b[0;34m[\u001b[0m\u001b[0;36m6\u001b[0m\u001b[0;34m:\u001b[0m\u001b[0;36m10\u001b[0m\u001b[0;34m]\u001b[0m\u001b[0;34m\u001b[0m\u001b[0;34m\u001b[0m\u001b[0m\n\u001b[1;32m     43\u001b[0m         \u001b[0;31m# return NXX-NXX-XXX as (NXX) NXX-XXXX\u001b[0m\u001b[0;34m\u001b[0m\u001b[0;34m\u001b[0m\u001b[0;34m\u001b[0m\u001b[0m\n",
      "\u001b[0;31mValueError\u001b[0m: Invalid phone number: Illegal exchange code"
     ]
    }
   ],
   "source": [
    "p = Phone('(617) 195-4024')"
   ]
  }
 ],
 "metadata": {
  "kernelspec": {
   "display_name": "Python 3",
   "language": "python",
   "name": "python3"
  },
  "language_info": {
   "codemirror_mode": {
    "name": "ipython",
    "version": 3
   },
   "file_extension": ".py",
   "mimetype": "text/x-python",
   "name": "python",
   "nbconvert_exporter": "python",
   "pygments_lexer": "ipython3",
   "version": "3.8.3"
  }
 },
 "nbformat": 4,
 "nbformat_minor": 2
}
