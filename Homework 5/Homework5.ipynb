{
 "cells": [
  {
   "cell_type": "markdown",
   "metadata": {},
   "source": [
    "# Homework 5: Fall 2020\n",
    "## Due Oct 5, 4PM\n",
    "### Fill in your name"
   ]
  },
  {
   "cell_type": "code",
   "execution_count": 1,
   "metadata": {},
   "outputs": [],
   "source": [
    "first_name = \"Shariq\"\n",
    "last_name = \"Jamil\"\n",
    "\n",
    "assert(len(first_name) != 0)\n",
    "assert(len(last_name) != 0)"
   ]
  },
  {
   "cell_type": "markdown",
   "metadata": {},
   "source": [
    "## Problem 1: Inorder\n",
    "\n",
    "Take a list of elements, and decide if the elements are in ascending order.\n",
    "\n",
    "The list may contain integers or strings, but will contain only one type of value.\n",
    "\n",
    "```python\n",
    "    def inorder(lst: List) -> bool:\n",
    "```\n",
    "\n",
    "### Examples:\n",
    "\n",
    "The list\n",
    "\n",
    "```python\n",
    "     [1, 4, 9, 13]\n",
    "```\n",
    "is in order.  However\n",
    "\n",
    "```python\n",
    "['one', 'two', 'three', 'four']\n",
    "```\n",
    "is not in order, as 'three' comes before 'two' in the dictionary\n"
   ]
  },
  {
   "cell_type": "markdown",
   "metadata": {},
   "source": [
    "<div class=\"alert alert-block alert-info\">\n",
    "Fill in your function definition in the cell below.\n",
    "</div>"
   ]
  },
  {
   "cell_type": "code",
   "execution_count": 2,
   "metadata": {},
   "outputs": [],
   "source": [
    "'''\n",
    "A function that takes in a list of \n",
    "integers or strings. If the list is not\n",
    "in order it returns False, otherwise True \n",
    "'''\n",
    "def inorder(lst):\n",
    "    # counter to keep track of where we are in the list\n",
    "    count = 0\n",
    "    \n",
    "    # if there are enough objs to compare\n",
    "    if(len(lst) > 1):\n",
    "        # traverse through list until the end\n",
    "        while count != (len(lst)-1):\n",
    "            # compare with the next object\n",
    "            if(lst[count] > lst[count+1]):\n",
    "                # the current object is larger (numerically/alphabetically) than the next, abort\n",
    "                return False\n",
    "            # continue to the next obj, increment counter\n",
    "            count+= 1\n",
    "    # the list is in order\n",
    "    return True"
   ]
  },
  {
   "cell_type": "markdown",
   "metadata": {},
   "source": [
    "## Test case for inorder()"
   ]
  },
  {
   "cell_type": "code",
   "execution_count": 3,
   "metadata": {},
   "outputs": [
    {
     "name": "stdout",
     "output_type": "stream",
     "text": [
      "Sucess!\n"
     ]
    }
   ],
   "source": [
    "def validate_inorder():\n",
    "    assert inorder([1, 4, 9, 13]), \"List is inorder\"\n",
    "    assert inorder([1]), \"List is inorder\"\n",
    "    assert inorder([]), \"List is inorder\"\n",
    "    assert inorder(['one', 'ten', 'three', 'two']), \"List is inorder\"\n",
    "\n",
    "    assert not inorder([3, 1, 4]), \"3 appears before 1\"\n",
    "    assert not inorder([3, 2, 1]), \"3 appears before 2\"\n",
    "    assert not inorder([1, 4, 9, 13, 12]), \"13 appears before 12\"\n",
    "    assert not inorder(['one', 'two', 'three', 'four']), \"two appears before three\"\n",
    "\n",
    "    print('Sucess!')\n",
    "    \n",
    "validate_inorder()"
   ]
  },
  {
   "cell_type": "markdown",
   "metadata": {},
   "source": [
    "## Problem 2: Sum of Two\n",
    "\n",
    "Write a function that takes an integer target k and a list of integers, and decides if you can represent k as the sum of two different numbers in the list. \n",
    "\n",
    "```python\n",
    "    def sum_of_two(k: int, lst : List[int]) -> bool:\n",
    "```\n",
    "\n",
    "### Examples:\n",
    "\n",
    "```python\n",
    "sum_of_two(17, [1, 15, 3, 4, 5, 6, 7, 2]) \n",
    "```\n",
    "returns True, as 17 = 15 + 2\n",
    "\n",
    "```python\n",
    "sum_of_two(4, [1, 2])\n",
    "```\n",
    "returns False, as you cannot reuse the 2, and 4 is not 2 + 1.  \n"
   ]
  },
  {
   "cell_type": "markdown",
   "metadata": {},
   "source": [
    "<div class=\"alert alert-block alert-info\">\n",
    "Fill in your function definition in the cell below.\n",
    "</div>"
   ]
  },
  {
   "cell_type": "code",
   "execution_count": 4,
   "metadata": {},
   "outputs": [],
   "source": [
    "'''\n",
    "A function that takes in an integer and a list of \n",
    "integers. If two different integers in the list\n",
    "add up to the given integer, the function returns True.\n",
    "If not, it returns False\n",
    "'''\n",
    "def sum_of_two(k, lst):\n",
    "    # keep track of which obj is being evaluated in both loops\n",
    "    index1 = 0;\n",
    "    index2 = 0;\n",
    "    \n",
    "    # compare each integer\n",
    "    for num1 in lst:\n",
    "        # to every integer in the list\n",
    "        for num2 in lst:\n",
    "            # if we are not comparing the object to itself and the sum adds up to 'k'\n",
    "            if ((index1 != index2) and (num1+num2 == k)):\n",
    "                # pass\n",
    "                return True\n",
    "            # no match found, increment index for inner loop\n",
    "            index2+=1\n",
    "        # no match found, reset inner loop index\n",
    "        index2 = 0\n",
    "        # increment outer loop index\n",
    "        index1+= 1\n",
    "    return False"
   ]
  },
  {
   "cell_type": "markdown",
   "metadata": {},
   "source": [
    "## Test cases for sum of two"
   ]
  },
  {
   "cell_type": "code",
   "execution_count": 5,
   "metadata": {},
   "outputs": [
    {
     "name": "stdout",
     "output_type": "stream",
     "text": [
      "Sucess\n"
     ]
    }
   ],
   "source": [
    "assert not sum_of_two(0, []), \"Empty List\"\n",
    "assert not sum_of_two(3, [3]), \"Singleton list\"\n",
    "assert sum_of_two(3, [1, 2]), \"3 = 1 + 2\"\n",
    "assert sum_of_two(17, [10, 15, 3, 7]),  \"17 = 10 + 7\"\n",
    "assert sum_of_two(4, [2, 2]), \"4 = 2 + 2\"\n",
    "assert sum_of_two(4, [0, 4]), \"4 = 0 + 4\"\n",
    "assert sum_of_two(17, [1, 15, 3, 4, 5, 6, 7, 2]), \"17 = 15 + 2\"\n",
    "\n",
    "assert not sum_of_two(17, [10, 15, 4, 8]), \"Cannot write 17 as sum of elements\"\n",
    "assert not sum_of_two(4, [1, 2]), \"Can't use the same 2 twice\"\n",
    "\n",
    "print('Sucess')"
   ]
  },
  {
   "cell_type": "markdown",
   "metadata": {},
   "source": [
    "## Problem 3: Hamming Distance\n",
    "\n",
    "The Hamming distance between two strings is the number of places where the strings don't agree. \n",
    "\n",
    "We consider 'A' and 'a' to be the same letter. \n",
    "\n",
    "\n",
    "```python\n",
    "    def hamming_distance(word1: str, word2: str) -> int:\n",
    "```\n",
    "\n",
    "### Examples:\n",
    "\n",
    "\n",
    "\n",
    "```python\n",
    "hamming_distance('sugar', 'spice') = 4\n",
    "```\n",
    "as the two strings differ in every spot but the first.\n",
    "\n",
    "```python\n",
    "hamming_distance(\"GGACG\", \"GGTCG\") == 1\n",
    "```\n",
    "as the two strings only differ in the third place: A != T.\n",
    "\n",
    "```python\n",
    "hamming_distance(\"tag\", \"GAT\") == 2\n",
    "```\n",
    "as the strings differ in the first and third place.  We treat 'a' and 'A' as equal.  \n",
    "\n",
    "```python\n",
    "hamming_distance(\"hot\", \"cold\") \n",
    "```\n",
    "is not defined, as the strings have different lengths.   \n",
    "\n",
    "### If the strings have different lengths, your function should throw an ValueError exception with text describing the problem in your own words    "
   ]
  },
  {
   "cell_type": "markdown",
   "metadata": {},
   "source": [
    "<div class=\"alert alert-block alert-info\">\n",
    "Fill in your function definition in the cell below.\n",
    "</div>"
   ]
  },
  {
   "cell_type": "code",
   "execution_count": 6,
   "metadata": {},
   "outputs": [],
   "source": [
    "# Return the number of differences \n",
    "# Takes two strings, return non-negative integer\n",
    "# Throws ValueError if the strings have different length\n",
    "#\n",
    "def hamming_distance(strand_a, strand_b):\n",
    "    # throw exception if the two strings have different lengths\n",
    "    if(len(strand_a) != len(strand_b)):\n",
    "        raise ValueError('The two given strands must be of the same length')\n",
    "    \n",
    "    counter = 0\n",
    "    distance = 0\n",
    "    \n",
    "    # traverse through first string\n",
    "    while counter <= len(strand_a)-1:\n",
    "        # compare the lowercase version of string at the same index \n",
    "        if(strand_a[counter].lower() != strand_b[counter].lower()):\n",
    "            # match not found, increment distance\n",
    "            distance += 1\n",
    "        # move on to next index\n",
    "        counter += 1\n",
    "    # return total distance\n",
    "    return distance\n",
    "            "
   ]
  },
  {
   "cell_type": "code",
   "execution_count": 7,
   "metadata": {},
   "outputs": [
    {
     "data": {
      "text/plain": [
       "'Success'"
      ]
     },
     "execution_count": 7,
     "metadata": {},
     "output_type": "execute_result"
    }
   ],
   "source": [
    "### Test case for hamming_distance()\n",
    "\n",
    "def test_hamming():\n",
    "    assert hamming_distance(\"A\", \"A\") == 0, \"Same string\"\n",
    "    assert hamming_distance(\"GGACTGA\", \"GGACTGA\") == 0, \"Same string\"\n",
    "    assert hamming_distance(\"A\", \"G\") == 1, \"Differ in every place\"\n",
    "    assert hamming_distance(\"AG\", \"CT\") == 2, \"Differ in every place\"\n",
    "    assert hamming_distance(\"AT\", \"CT\") == 1, \"Differ in first place\"\n",
    "    assert hamming_distance(\"GGACG\", \"GGTCG\") == 1, \"Differ in third place\"\n",
    "    assert hamming_distance(\"ggACG\", \"GGtCG\") == 1, \"Differ in third place\"\n",
    "    assert hamming_distance(\"GGACG\", \"ggtCG\") == 1, \"Differ in third place\"\n",
    "    assert hamming_distance(\"ACCAGGG\", \"ACTATGG\") == 2, \"Differ in two places\"\n",
    "    assert hamming_distance(\"AAG\", \"AAA\") == 1, \"Differ in third place\"\n",
    "    assert hamming_distance(\"AAA\", \"AAG\") == 1, \"Differ in third place\"\n",
    "    assert hamming_distance(\"TAG\", \"GAT\") == 2, \"Differ in first and third place\"\n",
    "    assert hamming_distance(\"GATACA\", \"GCATAA\") == 4, \"Differ in four places\"\n",
    "    assert hamming_distance(\"GGACGGATTCTG\", \"AGGACGGATTCT\") == 9, \"Differ in nine places\"\n",
    "\n",
    "    return 'Success'\n",
    "\n",
    "test_hamming()"
   ]
  },
  {
   "cell_type": "code",
   "execution_count": 8,
   "metadata": {},
   "outputs": [
    {
     "name": "stdout",
     "output_type": "stream",
     "text": [
      "Success\n"
     ]
    }
   ],
   "source": [
    "# Your function should throw an ValueError exception if the strings have different lengths\n",
    "#\n",
    "# If it doesn't, I will raise an exception\n",
    "#\n",
    "try:\n",
    "    hamming_distance(\"AATG\", \"AAA\")\n",
    "    assert 1 == 2, \"You were supposed to raise an Exception!\"\n",
    "except ValueError:\n",
    "    print(\"Success\")\n",
    "except:\n",
    "    assert 1 == 2, \"You were supposed to raise an ValueError Exception!\""
   ]
  },
  {
   "cell_type": "markdown",
   "metadata": {},
   "source": [
    "## Problem 4: Find Reversals\n",
    "\n",
    "Write a function that takes a list, and returns a list representing each word whose reverse is also in the list.\n",
    "\n",
    "```python\n",
    "    def find_reversals(lst: List[str]) -> List[str]:\n",
    "```\n",
    "\n",
    "Each pair, such as 'abut', 'tuba', should be represented by the first element encountered.  Don't report the same pairs twice.  \n",
    "\n",
    "Don't list palindromes.  "
   ]
  },
  {
   "cell_type": "markdown",
   "metadata": {},
   "source": [
    "<div class=\"alert alert-block alert-info\">\n",
    "Fill in your function definition in the cell below.\n",
    "</div>"
   ]
  },
  {
   "cell_type": "code",
   "execution_count": 9,
   "metadata": {},
   "outputs": [],
   "source": [
    "'''\n",
    "This function takes in a list and returns a list of\n",
    "each word whose reverse is also in the list\n",
    "\n",
    "Same pairs and palindromes are not reported\n",
    "'''\n",
    "def find_reversals(lst):\n",
    "    # init return list\n",
    "    reverse_list = []\n",
    "    # outer loop\n",
    "    for word1 in lst:\n",
    "        # reverse of word - what we are looking for\n",
    "        reverse = word1[::-1]\n",
    "        # inner loop to compare each string to\n",
    "        for word2 in lst:\n",
    "            # compare lowercase versions and make sure its not a palindrome\n",
    "            if(reverse.lower() == word2.lower() and reverse.lower() != word1.lower()):\n",
    "                # if the word or its pair are not already in list\n",
    "                if(word1.lower() not in reverse_list and reverse.lower() not in reverse_list):\n",
    "                    # add to return list\n",
    "                    reverse_list.append(word1.lower())\n",
    "                    # move on to next word if match was found\n",
    "                    break\n",
    "    return reverse_list "
   ]
  },
  {
   "cell_type": "markdown",
   "metadata": {},
   "source": [
    "## Test cases for find_reversals()"
   ]
  },
  {
   "cell_type": "code",
   "execution_count": 10,
   "metadata": {},
   "outputs": [
    {
     "name": "stdout",
     "output_type": "stream",
     "text": [
      "Success!\n"
     ]
    }
   ],
   "source": [
    "assert find_reversals(['art', 'Rat', 'Radar', 'scam', 'tar', 'vista']) == ['rat']\n",
    "assert find_reversals(['abut', 'Rat', 'Radar', 'tuba']) == ['abut']\n",
    "assert find_reversals(['art', 'Rat', 'Radars', 'scam', 'tartars', 'vista']) == []\n",
    "\n",
    "assert find_reversals(['art', 'tuba', 'Rat', 'Radar', 'rat', 'radar', 'abut', 'tar', 'tar']) == ['tuba', 'rat']\n",
    "assert find_reversals(['art', 'tuba', 'Rat', 'Radar', 'tar', 'tar', 'rat', 'radar', 'abut']) == ['tuba', 'rat']\n",
    "\n",
    "assert find_reversals(['Radar']) == []\n",
    "assert find_reversals(['test']) == []\n",
    "assert find_reversals([]) == []\n",
    "\n",
    "print('Success!')"
   ]
  },
  {
   "cell_type": "markdown",
   "metadata": {
    "collapsed": true
   },
   "source": [
    "## Problem 5: Find reversals in the dictionary\n",
    "\n",
    "### Write a program that finds the reversals in Downey's word list.\n",
    "\n",
    "List each pair only once, and only report the first word: List 'abut', but not 'tuba'\n",
    "\n",
    "Do not list palindromes.  \n",
    "\n",
    "```python\n",
    "    def find_reversals_in_file(fileName: str) -> List[str]:\n",
    "```\n",
    "\n",
    "### If you try to open a file that does not exist, you should catch a FileNotFoundError and print an error message in your own words"
   ]
  },
  {
   "cell_type": "markdown",
   "metadata": {},
   "source": [
    "<div class=\"alert alert-block alert-info\">\n",
    "Fill in your function definition in the cell below.\n",
    "</div>"
   ]
  },
  {
   "cell_type": "code",
   "execution_count": 11,
   "metadata": {},
   "outputs": [],
   "source": [
    "'''\n",
    "This function takes in a list and returns a list of\n",
    "each word whose reverse is also in the list\n",
    "\n",
    "It is assumed that a sorted list of distinct strings is being submitted.\n",
    "'''\n",
    "def find_reversals_dict(lst):\n",
    "    # init return list\n",
    "    reverse_list = []\n",
    "    # convert list to set for faster searching\n",
    "    dict_set = set(lst)\n",
    "    # traverse through each string\n",
    "    for word1 in lst:\n",
    "        # trimmed reverse of word - what we are looking for\n",
    "        word1 = word1.lower()\n",
    "        reverse = word1[::-1]\n",
    "        # look for reversed string in set\n",
    "        if(reverse in dict_set \n",
    "           # do not add pairs that are already in the return list\n",
    "            and reverse not in reverse_list and word1 not in reverse_list\n",
    "           # do not add palindromes\n",
    "            and reverse != word1):\n",
    "                    # if found, add to return list\n",
    "                    reverse_list.append(word1.lower())\n",
    "    return reverse_list \n",
    "\n",
    "def find_reversals_in_file(filename):\n",
    "    try:\n",
    "        # open given file\n",
    "        with open(filename, 'r') as words:\n",
    "            # trim given lines\n",
    "            text = words.read().splitlines()\n",
    "            # pass list of strings into reversal finder\n",
    "            rev_list = find_reversals_dict(text)\n",
    "            return rev_list\n",
    "    except FileNotFoundError:\n",
    "        print('File not found. Please verify file location and name')"
   ]
  },
  {
   "cell_type": "markdown",
   "metadata": {},
   "source": [
    "<div class=\"alert alert-block alert-info\">\n",
    "Call your function in the cell below.  You may change the path to point to your copy of words.txt\n",
    "</div>"
   ]
  },
  {
   "cell_type": "code",
   "execution_count": 12,
   "metadata": {},
   "outputs": [
    {
     "name": "stdout",
     "output_type": "stream",
     "text": [
      "There were 397 reversals\n",
      "abut\n",
      "ad\n",
      "ados\n",
      "agar\n",
      "agas\n",
      "agenes\n",
      "ah\n",
      "aider\n",
      "airts\n",
      "ajar\n"
     ]
    }
   ],
   "source": [
    "# Call your function here\n",
    "lst = find_reversals_in_file(\"words.txt\")\n",
    "\n",
    "print(f\"There were {len(lst)} reversals\")\n",
    "\n",
    "for word in lst[:10]:\n",
    "    print(word)"
   ]
  },
  {
   "cell_type": "markdown",
   "metadata": {},
   "source": [
    "<div class=\"alert alert-block alert-info\">\n",
    "Call your function on a file that doesn't exist\n",
    "    You should catch the exception and print a message in your own words\n",
    "</div>"
   ]
  },
  {
   "cell_type": "code",
   "execution_count": 13,
   "metadata": {},
   "outputs": [
    {
     "name": "stdout",
     "output_type": "stream",
     "text": [
      "File not found. Please verify file location and name\n"
     ]
    }
   ],
   "source": [
    "# Call your function here on a file that doesn't exist\n",
    "#\n",
    "lst = find_reversals_in_file(\"mxyzptlk.txt\")"
   ]
  },
  {
   "cell_type": "markdown",
   "metadata": {},
   "source": [
    "## Problem 6: Find Python files\n",
    "\n",
    "Starting with Downey's walk.py, write a function find_python_files() to return a list of all Python files below a directory in the file system.\n",
    "\n",
    "```python\n",
    "    def find_python_files(dirName: str) -> List[str]:\n",
    "```\n",
    "\n",
    "When I call it on my directory 'Python/Programs', I get a list like this:\n",
    "    \n",
    "```python\n",
    "./day4/cross.py\n",
    "./day4/hanoi.py\n",
    "./day4/isvowel.py\n",
    "./day4/Koch.py\n",
    "./day4/dragon.py\n",
    "./day3/binary_search.py\n",
    "./day3/file2.py\n",
    "./day3/reverse.py\n",
    "./day3/longwords2.py\n",
    "./day3/paint.py\n",
    "./day3/file3.py\n",
    "...\n",
    "```\n",
    "\n",
    "Incude in your notebook output an example with at least this level of complexity: multiple levels and multiple directories.  \n",
    "(You may need to create some directories and copy some file around to achieve that.)"
   ]
  },
  {
   "cell_type": "markdown",
   "metadata": {},
   "source": [
    "<div class=\"alert alert-block alert-info\">\n",
    "define your function below\n",
    "</div>"
   ]
  },
  {
   "cell_type": "code",
   "execution_count": 14,
   "metadata": {},
   "outputs": [],
   "source": [
    "'''\n",
    "This function takes in a directory name and \n",
    "returns a list of all python files below a point in the file system\n",
    "'''\n",
    "import os\n",
    "import sys\n",
    "\n",
    "# global var to track python files\n",
    "python_files = []\n",
    "\n",
    "def walk(dirname: str):\n",
    "    # Walk over the files in this directory\n",
    "    for name in os.listdir(dirname):\n",
    "        # Construct a full path\n",
    "        path = os.path.join(dirname, name)\n",
    "        # if a file is found\n",
    "        if os.path.isfile(path):\n",
    "            # if extension is py\n",
    "            if(path[-3:] == '.py'):\n",
    "                # add to list\n",
    "                python_files.append(path)\n",
    "        # traverse directory\n",
    "        else:\n",
    "            walk(path)\n",
    "\n",
    "def find_python_files(dirname: str):\n",
    "    # call walk function to get list of python files below a dir\n",
    "    walk(dirname)\n",
    "    return python_files\n"
   ]
  },
  {
   "cell_type": "markdown",
   "metadata": {},
   "source": [
    "<div class=\"alert alert-block alert-info\">\n",
    "Call your function below.  You may change the directory to find your python files.\n",
    "</div>"
   ]
  },
  {
   "cell_type": "code",
   "execution_count": 15,
   "metadata": {},
   "outputs": [
    {
     "name": "stdout",
     "output_type": "stream",
     "text": [
      "..\\Homework 3\\binary_search.py\n",
      "..\\Homework 3\\binary_search_test.py\n",
      "..\\Homework 3\\deliverables\\freestyle.py\n",
      "..\\Homework 3\\deliverables\\grid.py\n",
      "..\\Homework 3\\deliverables\\honeycomb.py\n",
      "..\\Homework 3\\deliverables\\pentagram.py\n",
      "..\\Homework 5\\Programs\\Prog1.py\n",
      "..\\Homework 5\\Programs\\Prog2.py\n",
      "..\\Homework 5\\Programs\\Prog3 - Copy (10).py\n",
      "..\\Homework 5\\Programs\\Prog3 - Copy (11).py\n",
      "..\\Homework 5\\Programs\\Prog3 - Copy (12).py\n",
      "..\\Homework 5\\Programs\\Prog3 - Copy (13).py\n",
      "..\\Homework 5\\Programs\\Prog3 - Copy (14).py\n",
      "..\\Homework 5\\Programs\\Prog3 - Copy (15).py\n",
      "..\\Homework 5\\Programs\\Prog3 - Copy (16).py\n",
      "..\\Homework 5\\Programs\\Prog3 - Copy (17).py\n",
      "..\\Homework 5\\Programs\\Prog3 - Copy (18).py\n",
      "..\\Homework 5\\Programs\\Prog3 - Copy (19).py\n",
      "..\\Homework 5\\Programs\\Prog3 - Copy (2).py\n",
      "..\\Homework 5\\Programs\\Prog3 - Copy (3).py\n",
      "..\\Homework 5\\Programs\\Prog3 - Copy (4).py\n",
      "..\\Homework 5\\Programs\\Prog3 - Copy (5).py\n",
      "..\\Homework 5\\Programs\\Prog3 - Copy (6).py\n",
      "..\\Homework 5\\Programs\\Prog3 - Copy (7).py\n",
      "..\\Homework 5\\Programs\\Prog3 - Copy (8).py\n",
      "..\\Homework 5\\Programs\\Prog3 - Copy (9).py\n",
      "..\\Homework 5\\Programs\\Prog3 - Copy.py\n",
      "..\\Homework 5\\Programs\\Prog3.py\n",
      "..\\Homework 5\\walk.py\n"
     ]
    }
   ],
   "source": [
    "lst = find_python_files('..')\n",
    "\n",
    "for w in lst:\n",
    "    print(w)"
   ]
  },
  {
   "cell_type": "markdown",
   "metadata": {},
   "source": [
    "# Post Mortem"
   ]
  },
  {
   "cell_type": "markdown",
   "metadata": {},
   "source": [
    "How long did it take you to solve this problem set?\n",
    "\n",
    "Did anything confuse you or cause difficulty?"
   ]
  },
  {
   "cell_type": "code",
   "execution_count": 16,
   "metadata": {},
   "outputs": [],
   "source": [
    "# Enter your thoughts\n",
    "# 10 hours. Nothing confusing, between piazza, video preview and documentation I was able to gather everything I needed."
   ]
  }
 ],
 "metadata": {
  "kernelspec": {
   "display_name": "Python 3",
   "language": "python",
   "name": "python3"
  },
  "language_info": {
   "codemirror_mode": {
    "name": "ipython",
    "version": 3
   },
   "file_extension": ".py",
   "mimetype": "text/x-python",
   "name": "python",
   "nbconvert_exporter": "python",
   "pygments_lexer": "ipython3",
   "version": "3.8.3"
  }
 },
 "nbformat": 4,
 "nbformat_minor": 1
}
