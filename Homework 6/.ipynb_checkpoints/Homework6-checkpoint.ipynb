{
 "cells": [
  {
   "cell_type": "markdown",
   "metadata": {},
   "source": [
    "# Homework 6: Fall 2020\n",
    "## Fill in your name"
   ]
  },
  {
   "cell_type": "code",
   "execution_count": 136,
   "metadata": {},
   "outputs": [],
   "source": [
    "first_name = \"Shariq\"\n",
    "last_name = \"Jamil\"\n",
    "\n",
    "assert(len(first_name) != 0)\n",
    "assert(len(last_name)  != 0)"
   ]
  },
  {
   "cell_type": "markdown",
   "metadata": {},
   "source": [
    "## Problem 1: Mailman\n",
    "### Turn an e-mail address into a list of components\n",
    "\n",
    "We address letters and and e-mail backwards. When the post office gets a letter, they need to read from the bottom up to decide where to send it next\n",
    "\n",
    "```python\n",
    "    Stephen Dedalus\n",
    "    Class of Elements\n",
    "    Clongowes Wood College\n",
    "    Sallins\n",
    "    Country Kildare\n",
    "    Ireland\n",
    "```\n",
    "\n",
    "Internet addresses such as 'jparker@word.std.com' work the same way.  \n",
    "\n",
    "Write a function that takes a string holding an e-mail address and returns a list with two items: the username, followed by a list of the steps we will need to take to route the mail. In the case above, you would return\n",
    "\n",
    "```python\n",
    "    ['jparker', ['com', 'std', 'world']]\n",
    "```\n",
    "\n",
    "Hint: Use the string method split() twice.  "
   ]
  },
  {
   "cell_type": "code",
   "execution_count": 137,
   "metadata": {},
   "outputs": [],
   "source": [
    "# Takes a string and returns a list  \n",
    "def parse_email_address(s):\n",
    "    # error if not a valid email address\n",
    "    if '@' not in s:\n",
    "        raise ValueError('Not a valid email address')\n",
    "    \n",
    "    # split email address at '@' sign\n",
    "    email_list = s.split('@')\n",
    "    # first half is username\n",
    "    username = email_list[0]\n",
    "    # the rest is what comes after @\n",
    "    suffix_list = email_list[1].split('.')\n",
    "    \n",
    "    suffix = []\n",
    "    \n",
    "    # iterate through suffix and store in reverse order\n",
    "    count = len(suffix_list)-1\n",
    "    while count != -1:\n",
    "        suffix.append(suffix_list[count])\n",
    "        count = count - 1\n",
    "    \n",
    "    # create return object\n",
    "    email = []\n",
    "    email.append(username)\n",
    "    email.append(suffix)\n",
    "    return email"
   ]
  },
  {
   "cell_type": "markdown",
   "metadata": {},
   "source": [
    "### Test cases for Mailman"
   ]
  },
  {
   "cell_type": "code",
   "execution_count": 138,
   "metadata": {},
   "outputs": [
    {
     "data": {
      "text/plain": [
       "'Pass'"
      ]
     },
     "execution_count": 138,
     "metadata": {},
     "output_type": "execute_result"
    }
   ],
   "source": [
    "def mailman_test():\n",
    "    assert(parse_email_address('jdp@world.std.com') == ['jdp', ['com', 'std', 'world']])\n",
    "    \n",
    "    return('Pass')\n",
    "\n",
    "mailman_test()"
   ]
  },
  {
   "cell_type": "markdown",
   "metadata": {},
   "source": [
    "## Problem 2: Parentheses\n",
    "### Decide if a string contains valid nested parentheses\n",
    "\n",
    "You are given a string consisting only of parentheses - (, ), {, }, [, and ]. Write a Boolean function is_valid_parens() that takes a string and decides if it consists of valid nested parenthesis.\n",
    "\n",
    "Hint: Your function should take open parentheses, such as '(',  and 'push it on a stack' and should take closing parentheses, and pop the stack and compare.  If the close parenthesis doesn't match the open parenthesis on top of the stack, the string is invalid.  If the stack is empty too soon, or is not empty when you finish the string, the string is invalid.  \n",
    "\n",
    "You can read about stacks here: \n",
    "\n",
    "https://en.wikipedia.org/wiki/Stack_(abstract_data_type)\n",
    "\n",
    "Implement your stack with a list, pushing and poping the final element.  "
   ]
  },
  {
   "cell_type": "code",
   "execution_count": 139,
   "metadata": {},
   "outputs": [],
   "source": [
    "# Takes a string, and returns a Boolean \n",
    "#  '{()[{}]}' is valid:    return True\n",
    "#  '{()[{}}' is not:       return False\n",
    "def is_valid_parens(s):\n",
    "    # do not process if array is empty\n",
    "    if(len(s) == 0):\n",
    "        return True\n",
    "    \n",
    "    # create dicts that store open/close parens\n",
    "    open_parens = {}\n",
    "    open_parens['['] = ']'\n",
    "    open_parens['('] = ')'\n",
    "    open_parens['{'] = '}'\n",
    "    \n",
    "    close_parens = {}\n",
    "    close_parens[']'] = '['\n",
    "    close_parens[')'] = '('\n",
    "    close_parens['}'] = '{'\n",
    "    \n",
    "    # array used to process parens\n",
    "    parens = []\n",
    "    \n",
    "    # iterate through string\n",
    "    counter = 0\n",
    "    while counter < len(s):\n",
    "        chr = s[counter]\n",
    "        # if there are closed parens to be found\n",
    "        if(len(parens) > 0):\n",
    "            # and the char is an open paren\n",
    "            if(chr in open_parens):\n",
    "                # add it to processing list\n",
    "                parens.append(chr)\n",
    "            else:\n",
    "                # it is not an open paren char, has to match last char in processing list\n",
    "                # the char should be the matching open paren\n",
    "                if (chr in close_parens and parens[len(parens)-1] == close_parens[chr]):\n",
    "                    # match found, remove open paren\n",
    "                    parens.pop()\n",
    "                else:\n",
    "                    # match not found, failure\n",
    "                    return False\n",
    "        else: \n",
    "            # open paren, add for processing and move on\n",
    "            parens.append(chr)\n",
    "        counter+= 1\n",
    "    # open parens without matching close parens found, failure\n",
    "    if(len(parens)>0):\n",
    "        return False\n",
    "    # there is a closed paren for each open paren, pass!\n",
    "    return True"
   ]
  },
  {
   "cell_type": "markdown",
   "metadata": {},
   "source": [
    "### Test case for is_valid_parens()"
   ]
  },
  {
   "cell_type": "code",
   "execution_count": 140,
   "metadata": {},
   "outputs": [
    {
     "data": {
      "text/plain": [
       "'Pass'"
      ]
     },
     "execution_count": 140,
     "metadata": {},
     "output_type": "execute_result"
    }
   ],
   "source": [
    "def test_parens():\n",
    "    assert(is_valid_parens(\"\"))\n",
    "    assert(is_valid_parens(\"[]\"))\n",
    "    assert(is_valid_parens('{()[{}]}'))\n",
    "    assert(is_valid_parens(\"{}\"))\n",
    "    assert(is_valid_parens(\"{[]}\"))\n",
    "    assert(is_valid_parens(\"{}[]\"))\n",
    "    assert(is_valid_parens(\"([{}({}[])])\"))\n",
    "\n",
    "    assert not is_valid_parens('{()[{}}]'), 'Interlaced parentheses'\n",
    "    assert not is_valid_parens(\"[[\"), \"Unmatched opens\"\n",
    "    assert not is_valid_parens(\"}{\"), \"Unmatched close\"\n",
    "    assert not is_valid_parens(\"{]\"), \"Missmatched parentheses\"\n",
    "    assert not is_valid_parens(\"{[])\"), \"Missmatched parentheses\"\n",
    "    assert not is_valid_parens(\"{[)][]}\"), \"Missmatched parentheses\"\n",
    "    assert not is_valid_parens(\"([{])\"), \"Missmatched parentheses\"\n",
    "    assert not is_valid_parens(\"[({]})\"), \"Missmatched parentheses\"\n",
    "    \n",
    "    return 'Pass'\n",
    "\n",
    "test_parens()"
   ]
  },
  {
   "cell_type": "markdown",
   "metadata": {},
   "source": [
    "## Problem 3: Solitary Words\n",
    "\n",
    "A word is *solitary* if no letter appears more than once.\n",
    "\n",
    "Thus 'once' is solitary.  'Solitary' is solitary.  'Pop' is not solitary, as there are two p's.  \n",
    "\n",
    "Write a function that takes a string and returns a Boolean telling us if the string is solitary.  \n",
    "\n",
    "\n",
    "```python\n",
    "    def solitary(word: str) -> bool:\n",
    "```\n",
    "\n",
    "### Hint:\n",
    "Review Downey's discussion of Dictionary as a Collection of Counters.\n",
    "\n",
    "### Hint:\n",
    "You can also use a Set to keep track of the letters in a word\n",
    "\n",
    "### Hint:\n",
    "You can solve this without Sets or Dictionaries.  Please don't.  This is the only problem on this set that uses these new ideas."
   ]
  },
  {
   "cell_type": "code",
   "execution_count": 141,
   "metadata": {},
   "outputs": [],
   "source": [
    "def solitary(word):\n",
    "    # dictionary for tracking word usages\n",
    "    dict = {}\n",
    "    for chr in word:\n",
    "        # check to see if char has been seen already\n",
    "        if(chr.lower() in dict):\n",
    "            # we have seen this char before, fail \n",
    "            return False\n",
    "        else:\n",
    "            # new char, add to dict\n",
    "            dict[chr.lower()] = 1\n",
    "    # no repeats found, pass\n",
    "    return True"
   ]
  },
  {
   "cell_type": "markdown",
   "metadata": {},
   "source": [
    "### Unit Test cases for solitary()"
   ]
  },
  {
   "cell_type": "code",
   "execution_count": 142,
   "metadata": {},
   "outputs": [
    {
     "name": "stdout",
     "output_type": "stream",
     "text": [
      "Success!\n"
     ]
    }
   ],
   "source": [
    "def test_solitary():\n",
    "    assert solitary('abcd')\n",
    "    assert not solitary('aa'), \"Two a's\"\n",
    "    assert solitary('solitary')\n",
    "    assert not solitary('Pop'), \"Two p's\"\n",
    "    assert not solitary(\"eleven\"), \"Three e's\"\n",
    "    assert solitary(\"subdermatoglyphic\")\n",
    "      \n",
    "    print('Success!')\n",
    "    \n",
    "test_solitary()"
   ]
  },
  {
   "cell_type": "markdown",
   "metadata": {},
   "source": [
    "## Problem 4: Find Large Files\n",
    "\n",
    "Write a function that takes a directory and a size in bytes, \n",
    "and returns a list of files in the directory or below that \n",
    "are larger than the size.  \n",
    "\n",
    "*For example, you can use this function to look for files larger than 1 Meg below your Home directory.*\n",
    "\n",
    "You will find a Python function that gives you the size of a file in the os.path library: \n",
    "\n",
    "https://pymotw.com/3/os.path/"
   ]
  },
  {
   "cell_type": "code",
   "execution_count": 143,
   "metadata": {},
   "outputs": [],
   "source": [
    "import os\n",
    "import sys\n",
    "\n",
    "# global var to track large files\n",
    "large_files = []\n",
    "\n",
    "# Using a modified version of Downey's walk function \n",
    "def walk(dirname: str, filesize):\n",
    "    # Walk over the files in this directory\n",
    "    for name in os.listdir(dirname):\n",
    "        # Construct a full path\n",
    "        path = os.path.join(dirname, name)\n",
    "        # if a file is found\n",
    "        if os.path.isfile(path):\n",
    "            # if file size is greater than given filesize\n",
    "            if(os.path.getsize(path) > filesize):\n",
    "                # add to list\n",
    "                large_files.append(path)\n",
    "        # traverse directory\n",
    "        else:\n",
    "            walk(path, filesize)\n",
    "\n",
    "def find_large_files(dirname, filesize):\n",
    "    # call walk function to get list of files larger than the given size\n",
    "    walk(dirname, filesize)\n",
    "    return large_files\n",
    "\n",
    "    "
   ]
  },
  {
   "cell_type": "markdown",
   "metadata": {},
   "source": [
    "### Show your program in action\n",
    "Give the parameters and show the results for your program\n",
    "\n",
    "I looked for files larger than a Megabyte found below the directory one step up.   "
   ]
  },
  {
   "cell_type": "code",
   "execution_count": 144,
   "metadata": {},
   "outputs": [
    {
     "name": "stdout",
     "output_type": "stream",
     "text": [
      "4\n",
      "..\\.ipynb_checkpoints\\cs109a_hw1-checkpoint.ipynb\n",
      "..\\cs109a_hw1.ipynb\n",
      "..\\Homework 4\\words.txt\n",
      "..\\Homework 5\\words.txt\n"
     ]
    }
   ],
   "source": [
    "lst = find_large_files('..', 1048576)\n",
    "print(len(lst))\n",
    "\n",
    "for path in lst:\n",
    "    print(path)"
   ]
  },
  {
   "cell_type": "markdown",
   "metadata": {},
   "source": [
    "## Problem 5:\n",
    "\n",
    "The following stand-alone program takes a url from the command line, reads the contents of a webpage, and prints it.\n",
    " \n",
    "Modify the program to take a filename as a second parameter and save the contents of the webpage in a text file.  \n",
    "\n",
    "```python\n",
    "    python save_url.py 'http://www.python.org/' pythonpage.txt\n",
    "```\n",
    "\n",
    "would save the contents of the webpage in the text file pythonpage.txt.  \n",
    "\n",
    "You may want to review the mycopy.py program from day 4 which takes two \n",
    "parameters and copies the contents of the first file to the second.  \n",
    "\n",
    "Use this and an editor to find the copyright notice on the following websites.\n",
    "\n",
    "```python\n",
    "    website = 'http://www.python.org/'\n",
    "    website = 'https://www.extension.harvard.edu'\n",
    "    website = 'http://en.wikipedia.org/wiki/Python'\n",
    "    \n",
    "    website = Your piazza link: mine looks something like this: \n",
    "            https://piazza.com/class/myxlplyxmyxlplyx?cid=194\n",
    "```\n",
    "You will need to remove the last bit from your piazza link that specifies the cid:  '?cid=194'.  In my case, this would leave https://piazza.com/class/myxlplyxmyxlplyx\n",
    "\n",
    "This problem gives you a chance to examine webpages, and shows how \n",
    "different website creators deal with a common problem, presenting a copyright.\n",
    "You will see that writing a program to extract the copyright from different websites would be difficult.  \n",
    "\n",
    "For example, here is the copyright notice for the New York Times, https://www.nytimes.com.  I have introduced whitespace to help visualize the element.  \n",
    "\n",
    "```python\n",
    "<li data-testid=\"copyright\">\n",
    "    <a class=\"css-jq1cx6\" href=\"https://help.nytimes.com/hc/en-us/articles/115014792127-Copyright-notice\">©     \n",
    "        <span>2020</span> \n",
    "        <span>The New York Times Company</span>\n",
    "    </a>\n",
    "</li>\n",
    "```\n",
    "\n",
    "One alternative way to view the source for a website is through your browser.\n",
    "For example, in Chrome you can use View/Developer/View Source"
   ]
  },
  {
   "cell_type": "code",
   "execution_count": 146,
   "metadata": {},
   "outputs": [],
   "source": [
    "# Modified given read_url.py\n",
    "# by Jeff Parker\n",
    "#\n",
    "# This func takes in a website URL and a textfile name\n",
    "# as strings. It then writes the contents of the webpage \n",
    "# at the URL to a file. The file will use the name passed\n",
    "# in as the second arg\n",
    "#\n",
    "# Usage:\n",
    "#     python save_contents.py <website> <textfile>\n",
    "\n",
    "import urllib.request\n",
    "import sys\n",
    "\n",
    "def save_contents(website, textfile):\n",
    "    \"Saves the contents of this webpage as a file\"\n",
    "    try:\n",
    "        # Counter to keep track of lines, just for reference\n",
    "        counter = 0\n",
    "        with urllib.request.urlopen(website) as f:\n",
    "            text = f.read().decode('utf-8')\n",
    "\n",
    "            # Break the page into lines\n",
    "            text = text.split('\\n')\n",
    "            # Open the dest file\n",
    "            with open(textfile,'w',encoding=\"utf-8\") as fout:\n",
    "                # Grab each line\n",
    "                for line in text:\n",
    "                    # Write to file\n",
    "                    fout.write(line)\n",
    "                    counter += 1\n",
    "        # return number of lines processed\n",
    "        return counter\n",
    "\n",
    "    except urllib.error.URLError as e:\n",
    "        print(e.reason)\n",
    "        return []"
   ]
  },
  {
   "cell_type": "markdown",
   "metadata": {},
   "source": [
    "## Include your program below"
   ]
  },
  {
   "cell_type": "code",
   "execution_count": 147,
   "metadata": {},
   "outputs": [],
   "source": [
    "import urllib.request\n",
    "import sys\n",
    "\n",
    "# save_url.py\n",
    "# \n",
    "# This function takes in a web URL and a textfile name.\n",
    "# It calls save_contents to perform the actual work.\n",
    "# As a result of the call, the contents at <website> URL\n",
    "# will be stored in <textfile>\n",
    "#\n",
    "# Usage:\n",
    "#     python save_url.py <website> <textfile>\n",
    "def save_url(website, textfile):\n",
    "    num_lines_processed = save_contents(website, textfile)\n",
    "    print(num_lines_processed)"
   ]
  },
  {
   "cell_type": "markdown",
   "metadata": {},
   "source": [
    "### Show the webpage elements holding the copyright information for each website"
   ]
  },
  {
   "cell_type": "markdown",
   "metadata": {},
   "source": [
    "### Copyright notice for http://www.python.org/\n",
    "```python\n",
    "<div class=\"copyright\">                        \n",
    "    <p>\n",
    "        <small>                            \n",
    "            <span class=\"pre\">Copyright &copy;2001-2020.</span>&nbsp;\n",
    "            <span class=\"pre\"><a href=\"/psf-landing/\">Python Software Foundation</a></span>&nbsp;\n",
    "            <span class=\"pre\"><a href=\"/about/legal/\">Legal Statements</a></span>&nbsp;\n",
    "            <span class=\"pre\"><a href=\"/privacy/\">Privacy Policy</a></span>&nbsp;\n",
    "            <span class=\"pre\"><a href=\"/psf/sponsorship/sponsors/#heroku\">Powered by Heroku</a></span>                        \n",
    "        </small>\n",
    "    </p>\n",
    "</div>\n",
    "```"
   ]
  },
  {
   "cell_type": "markdown",
   "metadata": {},
   "source": [
    "### Copyright notice for https://www.extension.harvard.edu\n",
    "```python\n",
    "<p>Copyright &copy;2020 President and Fellows of Harvard College</p>\n",
    "```"
   ]
  },
  {
   "cell_type": "markdown",
   "metadata": {},
   "source": [
    "### Copyright notice for http://en.wikipedia.org/wiki/Python\n",
    "```python\n",
    "<li id=\"footer-info-copyright\">\n",
    "    Text is available under the <a rel=\"license\" href=\"//en.wikipedia.org/wiki/Wikipedia:Text_of_Creative_Commons_Attribution-ShareAlike_3.0_Unported_License\">Creative Commons Attribution-ShareAlike License</a><a rel=\"license\" href=\"//creativecommons.org/licenses/by-sa/3.0/\" style=\"display:none;\"></a>;additional terms may apply.  By using this site, you agree to the <a href=\"//foundation.wikimedia.org/wiki/Terms_of_Use\">Terms of Use</a> and <a href=\"//foundation.wikimedia.org/wiki/Privacy_policy\">Privacy Policy</a>. Wikipedia® is a registered trademark of the <a href=\"//www.wikimediafoundation.org/\">Wikimedia Foundation, Inc.</a>, a non-profit organization.\n",
    "</li>\n",
    "```"
   ]
  },
  {
   "cell_type": "markdown",
   "metadata": {},
   "source": [
    "### Copyright notice for Piazza\n",
    "```python\n",
    "# save_url('https://piazza.com/class/kckxsbcoz20gd','piazza.txt')\n",
    "<li>\n",
    "    <a class=\"log_click\" data-log-click=\"footer_legal_copyright\" href=\"/legal/copyright\">Copyright Policy</a>\n",
    "</li>\n",
    "\n",
    "<div id=\"CopyrightInfo\">\n",
    "    Copyright &#169; 2020<br/>Piazza Technologies<br/>All Rights Reserved          \n",
    "</div>\n",
    "```"
   ]
  },
  {
   "cell_type": "markdown",
   "metadata": {},
   "source": [
    "# Post Mortem"
   ]
  },
  {
   "cell_type": "markdown",
   "metadata": {},
   "source": [
    "How long did it take you to solve this problem set?\n",
    "\n",
    "Did anything confuse you or cause difficulty?"
   ]
  },
  {
   "cell_type": "code",
   "execution_count": 135,
   "metadata": {},
   "outputs": [],
   "source": [
    "# Enter your thoughts\n",
    "# It took me about 6 hours. A joy as always."
   ]
  }
 ],
 "metadata": {
  "kernelspec": {
   "display_name": "Python 3",
   "language": "python",
   "name": "python3"
  },
  "language_info": {
   "codemirror_mode": {
    "name": "ipython",
    "version": 3
   },
   "file_extension": ".py",
   "mimetype": "text/x-python",
   "name": "python",
   "nbconvert_exporter": "python",
   "pygments_lexer": "ipython3",
   "version": "3.8.3"
  }
 },
 "nbformat": 4,
 "nbformat_minor": 1
}
